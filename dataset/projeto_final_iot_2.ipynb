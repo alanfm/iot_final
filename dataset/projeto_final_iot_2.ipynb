{
 "cells": [
  {
   "cell_type": "code",
   "execution_count": 42,
   "metadata": {
    "colab": {
     "base_uri": "https://localhost:8080/"
    },
    "id": "OD3c2CmZxrqD",
    "outputId": "d9ff7d09-544e-4130-f247-32e67862c3ef"
   },
   "outputs": [],
   "source": [
    "# importando bibliotecas\n",
    "import pandas as pd\n",
    "import pandas as pd\n",
    "from sklearn.model_selection import train_test_split, learning_curve\n",
    "#usada para o pré-processamento de daddos, minmax e standard para dimensionar e padronizar e o onehot para codificar variáveis em formato numérico\n",
    "from sklearn.preprocessing import MinMaxScaler\n",
    "from sklearn.pipeline import Pipeline\n",
    "#classificador redes neurais com MLP\n",
    "from sklearn.neural_network import MLPClassifier\n",
    "from sklearn.impute import SimpleImputer\n",
    "from sklearn.svm import SVC\n",
    "from sklearn.tree import DecisionTreeClassifier\n",
    "from sklearn.ensemble import RandomForestClassifier\n",
    "import matplotlib.pyplot as plt\n",
    "from sklearn.metrics import accuracy_score, confusion_matrix, precision_score, recall_score, ConfusionMatrixDisplay, f1_score\n",
    "from sklearn import metrics\n",
    "import numpy as np"
   ]
  },
  {
   "cell_type": "code",
   "execution_count": 4,
   "metadata": {
    "id": "LWM99rr0ycZk"
   },
   "outputs": [],
   "source": [
    "dt = pd.read_csv('sensor_data.csv', low_memory=False)"
   ]
  },
  {
   "cell_type": "code",
   "execution_count": 5,
   "metadata": {
    "colab": {
     "base_uri": "https://localhost:8080/",
     "height": 226
    },
    "id": "d9BXeoD2zBMa",
    "outputId": "50682214-3286-45a9-c50e-1962ce25da7d"
   },
   "outputs": [
    {
     "data": {
      "text/html": [
       "<div>\n",
       "<style scoped>\n",
       "    .dataframe tbody tr th:only-of-type {\n",
       "        vertical-align: middle;\n",
       "    }\n",
       "\n",
       "    .dataframe tbody tr th {\n",
       "        vertical-align: top;\n",
       "    }\n",
       "\n",
       "    .dataframe thead th {\n",
       "        text-align: right;\n",
       "    }\n",
       "</style>\n",
       "<table border=\"1\" class=\"dataframe\">\n",
       "  <thead>\n",
       "    <tr style=\"text-align: right;\">\n",
       "      <th></th>\n",
       "      <th>lux</th>\n",
       "      <th>humidity</th>\n",
       "      <th>temperature</th>\n",
       "      <th>lighting_switch</th>\n",
       "      <th>climate_switch</th>\n",
       "      <th>door_actuator</th>\n",
       "      <th>lux_status</th>\n",
       "      <th>humidity_status</th>\n",
       "      <th>temperature_status</th>\n",
       "      <th>environment_temperature</th>\n",
       "      <th>environment_lux</th>\n",
       "      <th>label</th>\n",
       "    </tr>\n",
       "  </thead>\n",
       "  <tbody>\n",
       "    <tr>\n",
       "      <th>0</th>\n",
       "      <td>195.861198</td>\n",
       "      <td>50.551095</td>\n",
       "      <td>33.392962</td>\n",
       "      <td>0</td>\n",
       "      <td>0</td>\n",
       "      <td>0</td>\n",
       "      <td>0</td>\n",
       "      <td>1</td>\n",
       "      <td>1</td>\n",
       "      <td>24</td>\n",
       "      <td>200</td>\n",
       "      <td>2</td>\n",
       "    </tr>\n",
       "    <tr>\n",
       "      <th>1</th>\n",
       "      <td>191.427936</td>\n",
       "      <td>35.898476</td>\n",
       "      <td>29.822219</td>\n",
       "      <td>0</td>\n",
       "      <td>0</td>\n",
       "      <td>1</td>\n",
       "      <td>0</td>\n",
       "      <td>0</td>\n",
       "      <td>0</td>\n",
       "      <td>24</td>\n",
       "      <td>200</td>\n",
       "      <td>0</td>\n",
       "    </tr>\n",
       "    <tr>\n",
       "      <th>2</th>\n",
       "      <td>187.907044</td>\n",
       "      <td>48.696220</td>\n",
       "      <td>26.772112</td>\n",
       "      <td>0</td>\n",
       "      <td>0</td>\n",
       "      <td>1</td>\n",
       "      <td>0</td>\n",
       "      <td>0</td>\n",
       "      <td>0</td>\n",
       "      <td>24</td>\n",
       "      <td>200</td>\n",
       "      <td>0</td>\n",
       "    </tr>\n",
       "    <tr>\n",
       "      <th>3</th>\n",
       "      <td>207.868340</td>\n",
       "      <td>77.744468</td>\n",
       "      <td>39.770008</td>\n",
       "      <td>0</td>\n",
       "      <td>0</td>\n",
       "      <td>0</td>\n",
       "      <td>0</td>\n",
       "      <td>1</td>\n",
       "      <td>1</td>\n",
       "      <td>24</td>\n",
       "      <td>200</td>\n",
       "      <td>2</td>\n",
       "    </tr>\n",
       "    <tr>\n",
       "      <th>4</th>\n",
       "      <td>213.383920</td>\n",
       "      <td>46.009451</td>\n",
       "      <td>21.811523</td>\n",
       "      <td>0</td>\n",
       "      <td>0</td>\n",
       "      <td>1</td>\n",
       "      <td>0</td>\n",
       "      <td>0</td>\n",
       "      <td>0</td>\n",
       "      <td>24</td>\n",
       "      <td>200</td>\n",
       "      <td>0</td>\n",
       "    </tr>\n",
       "  </tbody>\n",
       "</table>\n",
       "</div>"
      ],
      "text/plain": [
       "          lux   humidity  temperature  lighting_switch  climate_switch  \\\n",
       "0  195.861198  50.551095    33.392962                0               0   \n",
       "1  191.427936  35.898476    29.822219                0               0   \n",
       "2  187.907044  48.696220    26.772112                0               0   \n",
       "3  207.868340  77.744468    39.770008                0               0   \n",
       "4  213.383920  46.009451    21.811523                0               0   \n",
       "\n",
       "   door_actuator  lux_status  humidity_status  temperature_status  \\\n",
       "0              0           0                1                   1   \n",
       "1              1           0                0                   0   \n",
       "2              1           0                0                   0   \n",
       "3              0           0                1                   1   \n",
       "4              1           0                0                   0   \n",
       "\n",
       "   environment_temperature  environment_lux  label  \n",
       "0                       24              200      2  \n",
       "1                       24              200      0  \n",
       "2                       24              200      0  \n",
       "3                       24              200      2  \n",
       "4                       24              200      0  "
      ]
     },
     "execution_count": 5,
     "metadata": {},
     "output_type": "execute_result"
    }
   ],
   "source": [
    "dt.head()"
   ]
  },
  {
   "cell_type": "code",
   "execution_count": 7,
   "metadata": {
    "colab": {
     "base_uri": "https://localhost:8080/"
    },
    "id": "luIrxUxLzECi",
    "outputId": "6736982c-af86-4d4a-fc74-75efb0309bff"
   },
   "outputs": [
    {
     "data": {
      "text/plain": [
       "2    333870\n",
       "1    333200\n",
       "0    332930\n",
       "Name: label, dtype: int64"
      ]
     },
     "execution_count": 7,
     "metadata": {},
     "output_type": "execute_result"
    }
   ],
   "source": [
    "dt['label'].value_counts()"
   ]
  },
  {
   "cell_type": "code",
   "execution_count": 13,
   "metadata": {},
   "outputs": [],
   "source": [
    "normal = dt.loc[dt['label'] == 0]\n",
    "arcond = dt.loc[dt['label'] == 1]\n",
    "ilu = dt.loc[dt['label'] == 2]\n",
    "iluar = dt.loc[dt['label'] == 3]"
   ]
  },
  {
   "cell_type": "code",
   "execution_count": 27,
   "metadata": {},
   "outputs": [],
   "source": [
    "# Selecionando aleatoriamente aproximadamente 51000 amostras de cada classe para balancear os dados de treinamento\n",
    "\n",
    "X_train_ilu, X_tst_ilu, y_train_ilu, y_tst_ilu = train_test_split(ilu.drop(['label'],axis=1), ilu['label'], test_size=0.13, shuffle=True)\n",
    "X_train_arcond, X_tst_arcond, y_train_arcond, y_tst_arcond = train_test_split(arcond.drop(['label'],axis=1), arcond['label'], test_size=0.29, shuffle=True)\n",
    "X_train_normal, X_tst_normal, y_train_normal, y_tst_normal = train_test_split(normal.drop(['label'],axis=1), normal['label'], test_size=0.038, shuffle=True)"
   ]
  },
  {
   "cell_type": "code",
   "execution_count": 28,
   "metadata": {},
   "outputs": [
    {
     "data": {
      "text/plain": [
       "1    96628\n",
       "2    43404\n",
       "0    12652\n",
       "Name: label, dtype: int64"
      ]
     },
     "execution_count": 28,
     "metadata": {},
     "output_type": "execute_result"
    }
   ],
   "source": [
    "# Transformando array em series pandas novamente\n",
    "normal_pd_X = pd.DataFrame(X_tst_normal)\n",
    "normal_pd_y = pd.DataFrame(y_tst_normal)\n",
    "ilu_pd_X = pd.DataFrame(X_tst_ilu)\n",
    "ilu_pd_y = pd.DataFrame(y_tst_ilu)\n",
    "arcond_pd_X = pd.DataFrame(X_tst_arcond)\n",
    "arcond_pd_y = pd.DataFrame(y_tst_arcond)\n",
    "\n",
    "normal_pd_X['label'] = normal_pd_y\n",
    "ilu_pd_X['label'] = ilu_pd_y\n",
    "arcond_pd_X['label'] = arcond_pd_y\n",
    "\n",
    "# concatenando as amostras das 4 classes de saída\n",
    "data = pd.concat([iluar, normal_pd_X, ilu_pd_X, arcond_pd_X])\n",
    "data['label'].value_counts()"
   ]
  },
  {
   "cell_type": "code",
   "execution_count": 29,
   "metadata": {
    "colab": {
     "base_uri": "https://localhost:8080/"
    },
    "id": "kIvyfwP2xsg3",
    "outputId": "e08d0d20-302c-48ad-eee5-abe8852f7cd5"
   },
   "outputs": [
    {
     "name": "stdout",
     "output_type": "stream",
     "text": [
      "<class 'pandas.core.frame.DataFrame'>\n",
      "Int64Index: 152684 entries, 475204 to 550568\n",
      "Data columns (total 12 columns):\n",
      " #   Column                   Non-Null Count   Dtype  \n",
      "---  ------                   --------------   -----  \n",
      " 0   lux                      152684 non-null  float64\n",
      " 1   humidity                 152684 non-null  float64\n",
      " 2   temperature              152684 non-null  float64\n",
      " 3   lighting_switch          152684 non-null  int64  \n",
      " 4   climate_switch           152684 non-null  int64  \n",
      " 5   door_actuator            152684 non-null  int64  \n",
      " 6   lux_status               152684 non-null  int64  \n",
      " 7   humidity_status          152684 non-null  int64  \n",
      " 8   temperature_status       152684 non-null  int64  \n",
      " 9   environment_temperature  152684 non-null  int64  \n",
      " 10  environment_lux          152684 non-null  int64  \n",
      " 11  label                    152684 non-null  int64  \n",
      "dtypes: float64(3), int64(9)\n",
      "memory usage: 15.1 MB\n"
     ]
    }
   ],
   "source": [
    "data.info()"
   ]
  },
  {
   "cell_type": "code",
   "execution_count": 17,
   "metadata": {
    "colab": {
     "base_uri": "https://localhost:8080/"
    },
    "id": "JnAT6Myn1IAT",
    "outputId": "cff3a3a3-3b3d-47e9-f261-3b98aa2fd123"
   },
   "outputs": [
    {
     "name": "stdout",
     "output_type": "stream",
     "text": [
      "11\n"
     ]
    }
   ],
   "source": [
    "# Número de features\n",
    "inputs = len(data.columns)-1\n",
    "print(inputs)"
   ]
  },
  {
   "cell_type": "code",
   "execution_count": 30,
   "metadata": {},
   "outputs": [],
   "source": [
    "#função para plotar a curva de aprendizagem\n",
    "def plot_learning_curve(estimator, title, X, y, cv=None, n_jobs=None, train_sizes=np.linspace(0.1, 1.0, 5)):\n",
    "    plt.figure()\n",
    "    plt.title(title)\n",
    "    plt.xlabel(\"Training examples\")\n",
    "    plt.ylabel(\"Score\")\n",
    "    \n",
    "    train_sizes, train_scores, test_scores = learning_curve(estimator, X, y, cv=cv, n_jobs=n_jobs, train_sizes=train_sizes)\n",
    "    \n",
    "    train_scores_mean = np.mean(train_scores, axis=1)\n",
    "    train_scores_std = np.std(train_scores, axis=1)\n",
    "    test_scores_mean = np.mean(test_scores, axis=1)\n",
    "    test_scores_std = np.std(test_scores, axis=1)\n",
    "    \n",
    "    plt.grid()\n",
    "    \n",
    "    plt.fill_between(train_sizes, train_scores_mean - train_scores_std,\n",
    "                     train_scores_mean + train_scores_std, alpha=0.1,\n",
    "                     color=\"r\")\n",
    "    plt.fill_between(train_sizes, test_scores_mean - test_scores_std,\n",
    "                     test_scores_mean + test_scores_std, alpha=0.1,\n",
    "                     color=\"g\")\n",
    "    plt.plot(train_sizes, train_scores_mean, 'o-', color=\"r\",\n",
    "             label=\"Training score\")\n",
    "    plt.plot(train_sizes, test_scores_mean, 'o-', color=\"g\",\n",
    "             label=\"Cross-validation score\")\n",
    "    \n",
    "    plt.legend(loc=\"best\")\n",
    "    return plt\n"
   ]
  },
  {
   "cell_type": "code",
   "execution_count": 48,
   "metadata": {},
   "outputs": [],
   "source": [
    "#hiperparâmetros\n",
    "svm_params = {\n",
    "    'C': [0.1, 1, 10, 100],\n",
    "    'kernel': ['linear', 'rbf', 'poly'],\n",
    "    'gamma': ['scale', 'auto']\n",
    "}\n",
    "\n",
    "tree_params = {\n",
    "    'criterion': ['gini', 'entropy'],\n",
    "    'max_depth': [None, 10, 20, 30, 50],\n",
    "    'min_samples_split': [2, 5, 10],\n",
    "    'min_samples_leaf': [1, 2, 4]\n",
    "}\n",
    "\n",
    "forest_params = {\n",
    "    'n_estimators': [50, 100, 200],\n",
    "    'criterion': ['gini', 'entropy'],\n",
    "    'max_depth': [None, 10, 20, 30, 50],\n",
    "    'min_samples_split': [2, 5, 10],\n",
    "    'min_samples_leaf': [1, 2, 4],\n",
    "    'bootstrap': [True, False]\n",
    "}"
   ]
  },
  {
   "cell_type": "code",
   "execution_count": 49,
   "metadata": {},
   "outputs": [],
   "source": [
    "models = {\n",
    "    'MLP': MLPClassifier(hidden_layer_sizes=(inputs,32,16,4),\n",
    "                        max_iter = 100,activation = 'logistic',\n",
    "                        solver = 'adam',learning_rate = 'adaptive',\n",
    "                        learning_rate_init = 0.007, early_stopping = True,\n",
    "                        verbose=True),\n",
    "    'SVM': SVC(random_state=42),\n",
    "    'Decision Tree': DecisionTreeClassifier(random_state=42),\n",
    "    'Random Forest': RandomForestClassifier(random_state=42)\n",
    "}"
   ]
  },
  {
   "cell_type": "code",
   "execution_count": 40,
   "metadata": {},
   "outputs": [],
   "source": [
    "X = pd.concat([X_train, X_test])\n",
    "y = pd.concat([y_train, y_test])\n"
   ]
  },
  {
   "cell_type": "code",
   "execution_count": 50,
   "metadata": {},
   "outputs": [
    {
     "name": "stdout",
     "output_type": "stream",
     "text": [
      "Iteration 1, loss = 0.93559542\n",
      "Validation score: 0.635560\n",
      "Iteration 2, loss = 0.82903925\n",
      "Validation score: 0.635560\n",
      "Iteration 3, loss = 0.49031452\n",
      "Validation score: 0.931238\n",
      "Iteration 4, loss = 0.23229593\n",
      "Validation score: 0.931238\n",
      "Iteration 5, loss = 0.15913497\n",
      "Validation score: 0.931238\n",
      "Iteration 6, loss = 0.12810894\n",
      "Validation score: 0.931238\n",
      "Iteration 7, loss = 0.10715614\n",
      "Validation score: 0.936149\n",
      "Iteration 8, loss = 0.09035794\n",
      "Validation score: 1.000000\n",
      "Iteration 9, loss = 0.07631945\n",
      "Validation score: 1.000000\n",
      "Iteration 10, loss = 0.06470938\n",
      "Validation score: 1.000000\n",
      "Iteration 11, loss = 0.05538718\n",
      "Validation score: 1.000000\n",
      "Iteration 12, loss = 0.04774477\n",
      "Validation score: 1.000000\n",
      "Iteration 13, loss = 0.04145278\n",
      "Validation score: 1.000000\n",
      "Iteration 14, loss = 0.03624836\n",
      "Validation score: 1.000000\n",
      "Iteration 15, loss = 0.03192451\n",
      "Validation score: 1.000000\n",
      "Iteration 16, loss = 0.02830023\n",
      "Validation score: 1.000000\n",
      "Iteration 17, loss = 0.02526173\n",
      "Validation score: 1.000000\n",
      "Iteration 18, loss = 0.02266018\n",
      "Validation score: 1.000000\n",
      "Iteration 19, loss = 0.02046847\n",
      "Validation score: 1.000000\n",
      "Validation score did not improve more than tol=0.000100 for 10 consecutive epochs. Stopping.\n",
      "Iteration 1, loss = 0.92868755\n",
      "Validation score: 0.632215\n",
      "Iteration 2, loss = 0.37266714\n",
      "Validation score: 0.919915\n",
      "Iteration 3, loss = 0.13211229\n",
      "Validation score: 1.000000\n",
      "Iteration 4, loss = 0.06094194\n",
      "Validation score: 1.000000\n",
      "Iteration 5, loss = 0.03471365\n",
      "Validation score: 1.000000\n",
      "Iteration 6, loss = 0.02291912\n",
      "Validation score: 1.000000\n",
      "Iteration 7, loss = 0.01648940\n",
      "Validation score: 1.000000\n",
      "Iteration 8, loss = 0.01253132\n",
      "Validation score: 1.000000\n",
      "Iteration 9, loss = 0.00989349\n",
      "Validation score: 1.000000\n",
      "Iteration 10, loss = 0.00803347\n",
      "Validation score: 1.000000\n",
      "Iteration 11, loss = 0.00666227\n",
      "Validation score: 1.000000\n",
      "Iteration 12, loss = 0.00562028\n",
      "Validation score: 1.000000\n",
      "Iteration 13, loss = 0.00480610\n",
      "Validation score: 1.000000\n",
      "Iteration 14, loss = 0.00415658\n",
      "Validation score: 1.000000\n",
      "Validation score did not improve more than tol=0.000100 for 10 consecutive epochs. Stopping.\n",
      "Iteration 1, loss = 0.46975818\n",
      "Validation score: 0.923022\n",
      "Iteration 2, loss = 0.10824587\n",
      "Validation score: 1.000000\n",
      "Iteration 3, loss = 0.03421103\n",
      "Validation score: 1.000000\n",
      "Iteration 4, loss = 0.01438354\n",
      "Validation score: 1.000000\n",
      "Iteration 5, loss = 0.00837518\n",
      "Validation score: 1.000000\n",
      "Iteration 6, loss = 0.00560562\n",
      "Validation score: 1.000000\n",
      "Iteration 7, loss = 0.00405271\n",
      "Validation score: 1.000000\n",
      "Iteration 8, loss = 0.00307929\n",
      "Validation score: 1.000000\n",
      "Iteration 9, loss = 0.00242242\n",
      "Validation score: 1.000000\n",
      "Iteration 10, loss = 0.00195556\n",
      "Validation score: 1.000000\n",
      "Iteration 11, loss = 0.00161060\n",
      "Validation score: 1.000000\n",
      "Iteration 12, loss = 0.00134804\n",
      "Validation score: 1.000000\n",
      "Iteration 13, loss = 0.00114328\n",
      "Validation score: 1.000000\n",
      "Validation score did not improve more than tol=0.000100 for 10 consecutive epochs. Stopping.\n",
      "Iteration 1, loss = 0.44520441\n",
      "Validation score: 0.917100\n",
      "Iteration 2, loss = 0.20894283\n",
      "Validation score: 0.917100\n",
      "Iteration 3, loss = 0.18040700\n",
      "Validation score: 0.994042\n",
      "Iteration 4, loss = 0.03065386\n",
      "Validation score: 1.000000\n",
      "Iteration 5, loss = 0.00840551\n",
      "Validation score: 1.000000\n",
      "Iteration 6, loss = 0.00441059\n",
      "Validation score: 1.000000\n",
      "Iteration 7, loss = 0.00283201\n",
      "Validation score: 1.000000\n",
      "Iteration 8, loss = 0.00200260\n",
      "Validation score: 1.000000\n",
      "Iteration 9, loss = 0.00150210\n",
      "Validation score: 1.000000\n",
      "Iteration 10, loss = 0.00117204\n",
      "Validation score: 1.000000\n",
      "Iteration 11, loss = 0.00094199\n",
      "Validation score: 1.000000\n",
      "Iteration 12, loss = 0.00077506\n",
      "Validation score: 1.000000\n",
      "Iteration 13, loss = 0.00065015\n",
      "Validation score: 1.000000\n",
      "Iteration 14, loss = 0.00055441\n",
      "Validation score: 1.000000\n",
      "Iteration 15, loss = 0.00047957\n",
      "Validation score: 1.000000\n",
      "Validation score did not improve more than tol=0.000100 for 10 consecutive epochs. Stopping.\n",
      "Iteration 1, loss = 0.34643252\n",
      "Validation score: 0.920424\n",
      "Iteration 2, loss = 0.22424373\n",
      "Validation score: 0.920424\n",
      "Iteration 3, loss = 0.20343438\n",
      "Validation score: 0.920424\n",
      "Iteration 4, loss = 0.19970921\n",
      "Validation score: 0.920424\n",
      "Iteration 5, loss = 0.19860665\n",
      "Validation score: 0.920424\n",
      "Iteration 6, loss = 0.19800707\n",
      "Validation score: 0.920424\n",
      "Iteration 7, loss = 0.19768289\n",
      "Validation score: 0.920424\n",
      "Iteration 8, loss = 0.24248270\n",
      "Validation score: 0.920424\n",
      "Iteration 9, loss = 0.19801695\n",
      "Validation score: 0.920424\n",
      "Iteration 10, loss = 0.19787816\n",
      "Validation score: 0.920424\n",
      "Iteration 11, loss = 0.19759518\n",
      "Validation score: 0.920424\n",
      "Iteration 12, loss = 0.19742847\n",
      "Validation score: 0.920424\n",
      "Validation score did not improve more than tol=0.000100 for 10 consecutive epochs. Stopping.\n",
      "Iteration 1, loss = 0.91693282\n",
      "Validation score: 0.645383\n",
      "Iteration 2, loss = 0.85959547\n",
      "Validation score: 0.645383\n",
      "Iteration 3, loss = 0.64898386\n",
      "Validation score: 0.917485\n",
      "Iteration 4, loss = 0.36970836\n",
      "Validation score: 0.917485\n",
      "Iteration 5, loss = 0.30466697\n",
      "Validation score: 0.917485\n",
      "Iteration 6, loss = 0.27386960\n",
      "Validation score: 0.917485\n",
      "Iteration 7, loss = 0.25598704\n",
      "Validation score: 0.917485\n",
      "Iteration 8, loss = 0.24453333\n",
      "Validation score: 0.917485\n",
      "Iteration 9, loss = 0.23660978\n",
      "Validation score: 0.917485\n",
      "Iteration 10, loss = 0.23090702\n",
      "Validation score: 0.917485\n",
      "Iteration 11, loss = 0.22655958\n",
      "Validation score: 0.917485\n",
      "Iteration 12, loss = 0.22321171\n",
      "Validation score: 0.917485\n",
      "Iteration 13, loss = 0.22057120\n",
      "Validation score: 0.917485\n",
      "Iteration 14, loss = 0.21841073\n",
      "Validation score: 0.917485\n",
      "Validation score did not improve more than tol=0.000100 for 10 consecutive epochs. Stopping.\n",
      "Iteration 1, loss = 0.79382233\n",
      "Validation score: 0.922333\n",
      "Iteration 2, loss = 0.34355693\n",
      "Validation score: 0.922333\n",
      "Iteration 3, loss = 0.26771977\n",
      "Validation score: 0.922333\n",
      "Iteration 4, loss = 0.11136563\n",
      "Validation score: 0.999396\n",
      "Iteration 5, loss = 0.03451234\n",
      "Validation score: 1.000000\n",
      "Iteration 6, loss = 0.01923512\n",
      "Validation score: 1.000000\n",
      "Iteration 7, loss = 0.01286420\n",
      "Validation score: 1.000000\n",
      "Iteration 8, loss = 0.00940427\n",
      "Validation score: 1.000000\n",
      "Iteration 9, loss = 0.00725899\n",
      "Validation score: 1.000000\n",
      "Iteration 10, loss = 0.00580854\n",
      "Validation score: 1.000000\n",
      "Iteration 11, loss = 0.00477267\n",
      "Validation score: 1.000000\n",
      "Iteration 12, loss = 0.00399990\n",
      "Validation score: 1.000000\n",
      "Iteration 13, loss = 0.00340608\n",
      "Validation score: 1.000000\n",
      "Iteration 14, loss = 0.00293793\n",
      "Validation score: 1.000000\n",
      "Iteration 15, loss = 0.00256126\n",
      "Validation score: 1.000000\n",
      "Iteration 16, loss = 0.00225290\n",
      "Validation score: 1.000000\n",
      "Validation score did not improve more than tol=0.000100 for 10 consecutive epochs. Stopping.\n",
      "Iteration 1, loss = 0.76529586\n",
      "Validation score: 0.914270\n",
      "Iteration 2, loss = 0.13409487\n",
      "Validation score: 1.000000\n",
      "Iteration 3, loss = 0.04208691\n",
      "Validation score: 1.000000\n",
      "Iteration 4, loss = 0.02037622\n",
      "Validation score: 1.000000\n",
      "Iteration 5, loss = 0.01216854\n",
      "Validation score: 1.000000\n",
      "Iteration 6, loss = 0.00817044\n",
      "Validation score: 1.000000\n",
      "Iteration 7, loss = 0.00589482\n",
      "Validation score: 1.000000\n",
      "Iteration 8, loss = 0.00446171\n",
      "Validation score: 1.000000\n",
      "Iteration 9, loss = 0.00349536\n",
      "Validation score: 1.000000\n",
      "Iteration 10, loss = 0.00280981\n",
      "Validation score: 1.000000\n",
      "Iteration 11, loss = 0.00230633\n",
      "Validation score: 0.985712\n",
      "Iteration 12, loss = 0.05825165\n",
      "Validation score: 1.000000\n",
      "Iteration 13, loss = 0.00266769\n",
      "Validation score: 1.000000\n",
      "Validation score did not improve more than tol=0.000100 for 10 consecutive epochs. Stopping.\n",
      "Iteration 1, loss = 0.52968278\n",
      "Validation score: 1.000000\n",
      "Iteration 2, loss = 0.04300368\n",
      "Validation score: 1.000000\n",
      "Iteration 3, loss = 0.01245985\n",
      "Validation score: 1.000000\n",
      "Iteration 4, loss = 0.00647866\n",
      "Validation score: 1.000000\n",
      "Iteration 5, loss = 0.00406249\n",
      "Validation score: 1.000000\n",
      "Iteration 6, loss = 0.00280648\n",
      "Validation score: 1.000000\n",
      "Iteration 7, loss = 0.00205839\n",
      "Validation score: 1.000000\n",
      "Iteration 8, loss = 0.00157312\n",
      "Validation score: 1.000000\n",
      "Iteration 9, loss = 0.00123894\n",
      "Validation score: 1.000000\n",
      "Iteration 10, loss = 0.00099643\n",
      "Validation score: 1.000000\n",
      "Iteration 11, loss = 0.00081677\n",
      "Validation score: 1.000000\n",
      "Iteration 12, loss = 0.00068128\n",
      "Validation score: 1.000000\n",
      "Validation score did not improve more than tol=0.000100 for 10 consecutive epochs. Stopping.\n"
     ]
    },
    {
     "name": "stdout",
     "output_type": "stream",
     "text": [
      "Iteration 1, loss = 0.42192218\n",
      "Validation score: 0.918361\n",
      "Iteration 2, loss = 0.24352800\n",
      "Validation score: 0.842519\n",
      "Iteration 3, loss = 0.21015126\n",
      "Validation score: 0.918361\n",
      "Iteration 4, loss = 0.20134606\n",
      "Validation score: 0.918361\n",
      "Iteration 5, loss = 0.19926896\n",
      "Validation score: 0.918361\n",
      "Iteration 6, loss = 0.19844202\n",
      "Validation score: 0.918361\n",
      "Iteration 7, loss = 0.19783178\n",
      "Validation score: 0.918361\n",
      "Iteration 8, loss = 0.19755169\n",
      "Validation score: 0.918361\n",
      "Iteration 9, loss = 0.20660157\n",
      "Validation score: 0.918361\n",
      "Iteration 10, loss = 0.20786708\n",
      "Validation score: 0.918361\n",
      "Iteration 11, loss = 0.19731196\n",
      "Validation score: 0.918361\n",
      "Iteration 12, loss = 0.19711494\n",
      "Validation score: 0.918361\n",
      "Validation score did not improve more than tol=0.000100 for 10 consecutive epochs. Stopping.\n",
      "Iteration 1, loss = 0.90501361\n",
      "Validation score: 0.628684\n",
      "Iteration 2, loss = 0.79048927\n",
      "Validation score: 0.628684\n",
      "Iteration 3, loss = 0.42519662\n",
      "Validation score: 0.917485\n",
      "Iteration 4, loss = 0.26285969\n",
      "Validation score: 0.917485\n",
      "Iteration 5, loss = 0.23681064\n",
      "Validation score: 0.917485\n",
      "Iteration 6, loss = 0.22612196\n",
      "Validation score: 0.917485\n",
      "Iteration 7, loss = 0.22028528\n",
      "Validation score: 0.917485\n",
      "Iteration 8, loss = 0.22034107\n",
      "Validation score: 0.917485\n",
      "Iteration 9, loss = 0.21371880\n",
      "Validation score: 0.917485\n",
      "Iteration 10, loss = 0.20081218\n",
      "Validation score: 0.917485\n",
      "Iteration 11, loss = 0.16105648\n",
      "Validation score: 0.927308\n",
      "Iteration 12, loss = 0.11287375\n",
      "Validation score: 1.000000\n",
      "Iteration 13, loss = 0.07693483\n",
      "Validation score: 1.000000\n",
      "Iteration 14, loss = 0.05690321\n",
      "Validation score: 1.000000\n",
      "Iteration 15, loss = 0.04413167\n",
      "Validation score: 1.000000\n",
      "Iteration 16, loss = 0.03549855\n",
      "Validation score: 1.000000\n",
      "Iteration 17, loss = 0.02932400\n",
      "Validation score: 1.000000\n",
      "Iteration 18, loss = 0.02471027\n",
      "Validation score: 1.000000\n",
      "Iteration 19, loss = 0.02118090\n",
      "Validation score: 1.000000\n",
      "Iteration 20, loss = 0.01839924\n",
      "Validation score: 1.000000\n",
      "Iteration 21, loss = 0.01616095\n",
      "Validation score: 1.000000\n",
      "Iteration 22, loss = 0.01433101\n",
      "Validation score: 1.000000\n",
      "Iteration 23, loss = 0.01280776\n",
      "Validation score: 1.000000\n",
      "Validation score did not improve more than tol=0.000100 for 10 consecutive epochs. Stopping.\n",
      "Iteration 1, loss = 0.69380162\n",
      "Validation score: 0.919613\n",
      "Iteration 2, loss = 0.17781036\n",
      "Validation score: 0.990934\n",
      "Iteration 3, loss = 0.08607834\n",
      "Validation score: 1.000000\n",
      "Iteration 4, loss = 0.04851041\n",
      "Validation score: 1.000000\n",
      "Iteration 5, loss = 0.03028657\n",
      "Validation score: 1.000000\n",
      "Iteration 6, loss = 0.02065999\n",
      "Validation score: 1.000000\n",
      "Iteration 7, loss = 0.01504076\n",
      "Validation score: 1.000000\n",
      "Iteration 8, loss = 0.01146972\n",
      "Validation score: 1.000000\n",
      "Iteration 9, loss = 0.00905473\n",
      "Validation score: 1.000000\n",
      "Iteration 10, loss = 0.00733999\n",
      "Validation score: 1.000000\n",
      "Iteration 11, loss = 0.00607295\n",
      "Validation score: 1.000000\n",
      "Iteration 12, loss = 0.00510904\n",
      "Validation score: 1.000000\n",
      "Iteration 13, loss = 0.00435713\n",
      "Validation score: 1.000000\n",
      "Iteration 14, loss = 0.00375774\n",
      "Validation score: 1.000000\n",
      "Validation score did not improve more than tol=0.000100 for 10 consecutive epochs. Stopping.\n",
      "Iteration 1, loss = 0.46148291\n",
      "Validation score: 0.923736\n",
      "Iteration 2, loss = 0.15821130\n",
      "Validation score: 1.000000\n",
      "Iteration 3, loss = 0.05062502\n",
      "Validation score: 1.000000\n",
      "Iteration 4, loss = 0.02391337\n",
      "Validation score: 1.000000\n",
      "Iteration 5, loss = 0.01418573\n",
      "Validation score: 1.000000\n",
      "Iteration 6, loss = 0.00949191\n",
      "Validation score: 1.000000\n",
      "Iteration 7, loss = 0.00682749\n",
      "Validation score: 1.000000\n",
      "Iteration 8, loss = 0.00515258\n",
      "Validation score: 1.000000\n",
      "Iteration 9, loss = 0.00402279\n",
      "Validation score: 1.000000\n",
      "Iteration 10, loss = 0.00322115\n",
      "Validation score: 1.000000\n",
      "Iteration 11, loss = 0.00263018\n",
      "Validation score: 1.000000\n",
      "Iteration 12, loss = 0.00218158\n",
      "Validation score: 1.000000\n",
      "Iteration 13, loss = 0.00183281\n",
      "Validation score: 1.000000\n",
      "Validation score did not improve more than tol=0.000100 for 10 consecutive epochs. Stopping.\n",
      "Iteration 1, loss = 0.37002106\n",
      "Validation score: 0.921410\n",
      "Iteration 2, loss = 0.20720201\n",
      "Validation score: 0.998479\n",
      "Iteration 3, loss = 0.03659609\n",
      "Validation score: 1.000000\n",
      "Iteration 4, loss = 0.00761534\n",
      "Validation score: 1.000000\n",
      "Iteration 5, loss = 0.00397351\n",
      "Validation score: 1.000000\n",
      "Iteration 6, loss = 0.00255320\n",
      "Validation score: 1.000000\n",
      "Iteration 7, loss = 0.00180860\n",
      "Validation score: 1.000000\n",
      "Iteration 8, loss = 0.00135864\n",
      "Validation score: 1.000000\n",
      "Iteration 9, loss = 0.00106262\n",
      "Validation score: 1.000000\n",
      "Iteration 10, loss = 0.00085642\n",
      "Validation score: 1.000000\n",
      "Iteration 11, loss = 0.00070673\n",
      "Validation score: 1.000000\n",
      "Iteration 12, loss = 0.00059459\n",
      "Validation score: 1.000000\n",
      "Iteration 13, loss = 0.00050845\n",
      "Validation score: 1.000000\n",
      "Iteration 14, loss = 0.00044084\n",
      "Validation score: 1.000000\n",
      "Validation score did not improve more than tol=0.000100 for 10 consecutive epochs. Stopping.\n",
      "Iteration 1, loss = 0.43852785\n",
      "Validation score: 0.918754\n",
      "Iteration 2, loss = 0.08031253\n",
      "Validation score: 1.000000\n",
      "Iteration 3, loss = 0.01996436\n",
      "Validation score: 1.000000\n",
      "Iteration 4, loss = 0.00942503\n",
      "Validation score: 1.000000\n",
      "Iteration 5, loss = 0.00556325\n",
      "Validation score: 1.000000\n",
      "Iteration 6, loss = 0.00367132\n",
      "Validation score: 1.000000\n",
      "Iteration 7, loss = 0.00258982\n",
      "Validation score: 1.000000\n",
      "Iteration 8, loss = 0.00190831\n",
      "Validation score: 1.000000\n",
      "Iteration 9, loss = 0.00145031\n",
      "Validation score: 1.000000\n",
      "Iteration 10, loss = 0.00112975\n",
      "Validation score: 1.000000\n",
      "Iteration 11, loss = 0.00089652\n",
      "Validation score: 1.000000\n",
      "Iteration 12, loss = 0.00072235\n",
      "Validation score: 1.000000\n",
      "Iteration 13, loss = 0.00059009\n",
      "Validation score: 1.000000\n",
      "Validation score did not improve more than tol=0.000100 for 10 consecutive epochs. Stopping.\n"
     ]
    },
    {
     "data": {
      "image/png": "[encoded data removed]",
      "text/plain": [
       "<Figure size 432x288 with 1 Axes>"
      ]
     },
     "metadata": {
      "needs_background": "light"
     },
     "output_type": "display_data"
    },
    {
     "data": {
      "image/png": "[encoded data removed]",
      "text/plain": [
       "<Figure size 432x288 with 1 Axes>"
      ]
     },
     "metadata": {
      "needs_background": "light"
     },
     "output_type": "display_data"
    },
    {
     "data": {
      "image/png": "[encoded data removed]",
      "text/plain": [
       "<Figure size 432x288 with 1 Axes>"
      ]
     },
     "metadata": {
      "needs_background": "light"
     },
     "output_type": "display_data"
    },
    {
     "data": {
      "image/png": "[encoded data removed]",
      "text/plain": [
       "<Figure size 432x288 with 1 Axes>"
      ]
     },
     "metadata": {
      "needs_background": "light"
     },
     "output_type": "display_data"
    }
   ],
   "source": [
    "for name, model in models.items():\n",
    "    plot_learning_curve(model, f'Learning Curve ({name})', X, y, cv=3, train_sizes=np.linspace(0.1, 1.0, 5))\n",
    "    plt.show()"
   ]
  },
  {
   "cell_type": "code",
   "execution_count": 10,
   "metadata": {
    "id": "xKRyS9aIzI3b"
   },
   "outputs": [],
   "source": [
    "# Modelo de MLP para classificação criado\n",
    "mlp_clf = MLPClassifier(hidden_layer_sizes=(inputs,32,16,4),\n",
    "                        max_iter = 100,activation = 'logistic',\n",
    "                        solver = 'adam',learning_rate = 'adaptive',\n",
    "                        learning_rate_init = 0.007, early_stopping = True,\n",
    "                        verbose=True)"
   ]
  },
  {
   "cell_type": "code",
   "execution_count": 34,
   "metadata": {
    "id": "6qvWMMpK0Qg0"
   },
   "outputs": [],
   "source": [
    "# Dividindo os dados em treino e teste\n",
    "X_train, X_test, y_train, y_test = train_test_split(data.drop(['label'],axis=1), data['label'], test_size=0.1, shuffle=True)"
   ]
  },
  {
   "cell_type": "code",
   "execution_count": 12,
   "metadata": {
    "id": "y9PSunI10iVb"
   },
   "outputs": [],
   "source": [
    "full_pipe = Pipeline(steps=[\n",
    "#     ('imputer', SimpleImputer(strategy='median')),\n",
    "    ('scaler', MinMaxScaler()),\n",
    "    ('mlp', mlp_clf)\n",
    "])"
   ]
  },
  {
   "cell_type": "code",
   "execution_count": 13,
   "metadata": {
    "colab": {
     "base_uri": "https://localhost:8080/",
     "height": 304
    },
    "id": "xYGXVv9p0uSv",
    "outputId": "284ae33c-7c7b-4da1-81ed-1d90aba784c7"
   },
   "outputs": [
    {
     "name": "stdout",
     "output_type": "stream",
     "text": [
      "Iteration 1, loss = 0.46435541\n",
      "Validation score: 0.773030\n",
      "Iteration 2, loss = 0.38552231\n",
      "Validation score: 0.776871\n",
      "Iteration 3, loss = 0.13958550\n",
      "Validation score: 0.986794\n",
      "Iteration 4, loss = 0.06604654\n",
      "Validation score: 0.986620\n",
      "Iteration 5, loss = 0.06376621\n",
      "Validation score: 0.988170\n",
      "Iteration 6, loss = 0.06299616\n",
      "Validation score: 0.984474\n",
      "Iteration 7, loss = 0.06232462\n",
      "Validation score: 0.987903\n",
      "Iteration 8, loss = 0.06170119\n",
      "Validation score: 0.987400\n",
      "Iteration 9, loss = 0.04530414\n",
      "Validation score: 0.988951\n",
      "Iteration 10, loss = 0.03802923\n",
      "Validation score: 0.990522\n",
      "Iteration 11, loss = 0.03543409\n",
      "Validation score: 0.992288\n",
      "Iteration 12, loss = 0.03399351\n",
      "Validation score: 0.992873\n",
      "Iteration 13, loss = 0.03156146\n",
      "Validation score: 0.993716\n",
      "Iteration 14, loss = 0.03199039\n",
      "Validation score: 0.991641\n",
      "Iteration 15, loss = 0.02993072\n",
      "Validation score: 0.991795\n",
      "Iteration 16, loss = 0.02970628\n",
      "Validation score: 0.994896\n",
      "Iteration 17, loss = 0.02849889\n",
      "Validation score: 0.994907\n",
      "Iteration 18, loss = 0.02694673\n",
      "Validation score: 0.995235\n",
      "Iteration 19, loss = 0.02618386\n",
      "Validation score: 0.994280\n",
      "Iteration 20, loss = 0.02561355\n",
      "Validation score: 0.991292\n",
      "Iteration 21, loss = 0.02533283\n",
      "Validation score: 0.995009\n",
      "Iteration 22, loss = 0.02503551\n",
      "Validation score: 0.988160\n",
      "Iteration 23, loss = 0.02436166\n",
      "Validation score: 0.994712\n",
      "Iteration 24, loss = 0.02358884\n",
      "Validation score: 0.993972\n",
      "Iteration 25, loss = 0.02283499\n",
      "Validation score: 0.994732\n",
      "Iteration 26, loss = 0.02279457\n",
      "Validation score: 0.995626\n",
      "Iteration 27, loss = 0.02284460\n",
      "Validation score: 0.994660\n",
      "Iteration 28, loss = 0.02252655\n",
      "Validation score: 0.994250\n",
      "Iteration 29, loss = 0.02216105\n",
      "Validation score: 0.996314\n",
      "Iteration 30, loss = 0.02160587\n",
      "Validation score: 0.996180\n",
      "Iteration 31, loss = 0.02194215\n",
      "Validation score: 0.996283\n",
      "Iteration 32, loss = 0.02121768\n",
      "Validation score: 0.994208\n",
      "Iteration 33, loss = 0.02076175\n",
      "Validation score: 0.995492\n",
      "Iteration 34, loss = 0.02070262\n",
      "Validation score: 0.995903\n",
      "Iteration 35, loss = 0.02058456\n",
      "Validation score: 0.994434\n",
      "Iteration 36, loss = 0.02004372\n",
      "Validation score: 0.993305\n",
      "Iteration 37, loss = 0.02032364\n",
      "Validation score: 0.994691\n",
      "Iteration 38, loss = 0.01950218\n",
      "Validation score: 0.995092\n",
      "Iteration 39, loss = 0.01855662\n",
      "Validation score: 0.996149\n",
      "Iteration 40, loss = 0.01865018\n",
      "Validation score: 0.995205\n",
      "Validation score did not improve more than tol=0.000100 for 10 consecutive epochs. Stopping.\n"
     ]
    },
    {
     "data": {
      "text/html": [
       "<style>#sk-container-id-1 {color: black;}#sk-container-id-1 pre{padding: 0;}#sk-container-id-1 div.sk-toggleable {background-color: white;}#sk-container-id-1 label.sk-toggleable__label {cursor: pointer;display: block;width: 100%;margin-bottom: 0;padding: 0.3em;box-sizing: border-box;text-align: center;}#sk-container-id-1 label.sk-toggleable__label-arrow:before {content: \"▸\";float: left;margin-right: 0.25em;color: #696969;}#sk-container-id-1 label.sk-toggleable__label-arrow:hover:before {color: black;}#sk-container-id-1 div.sk-estimator:hover label.sk-toggleable__label-arrow:before {color: black;}#sk-container-id-1 div.sk-toggleable__content {max-height: 0;max-width: 0;overflow: hidden;text-align: left;background-color: #f0f8ff;}#sk-container-id-1 div.sk-toggleable__content pre {margin: 0.2em;color: black;border-radius: 0.25em;background-color: #f0f8ff;}#sk-container-id-1 input.sk-toggleable__control:checked~div.sk-toggleable__content {max-height: 200px;max-width: 100%;overflow: auto;}#sk-container-id-1 input.sk-toggleable__control:checked~label.sk-toggleable__label-arrow:before {content: \"▾\";}#sk-container-id-1 div.sk-estimator input.sk-toggleable__control:checked~label.sk-toggleable__label {background-color: #d4ebff;}#sk-container-id-1 div.sk-label input.sk-toggleable__control:checked~label.sk-toggleable__label {background-color: #d4ebff;}#sk-container-id-1 input.sk-hidden--visually {border: 0;clip: rect(1px 1px 1px 1px);clip: rect(1px, 1px, 1px, 1px);height: 1px;margin: -1px;overflow: hidden;padding: 0;position: absolute;width: 1px;}#sk-container-id-1 div.sk-estimator {font-family: monospace;background-color: #f0f8ff;border: 1px dotted black;border-radius: 0.25em;box-sizing: border-box;margin-bottom: 0.5em;}#sk-container-id-1 div.sk-estimator:hover {background-color: #d4ebff;}#sk-container-id-1 div.sk-parallel-item::after {content: \"\";width: 100%;border-bottom: 1px solid gray;flex-grow: 1;}#sk-container-id-1 div.sk-label:hover label.sk-toggleable__label {background-color: #d4ebff;}#sk-container-id-1 div.sk-serial::before {content: \"\";position: absolute;border-left: 1px solid gray;box-sizing: border-box;top: 0;bottom: 0;left: 50%;z-index: 0;}#sk-container-id-1 div.sk-serial {display: flex;flex-direction: column;align-items: center;background-color: white;padding-right: 0.2em;padding-left: 0.2em;position: relative;}#sk-container-id-1 div.sk-item {position: relative;z-index: 1;}#sk-container-id-1 div.sk-parallel {display: flex;align-items: stretch;justify-content: center;background-color: white;position: relative;}#sk-container-id-1 div.sk-item::before, #sk-container-id-1 div.sk-parallel-item::before {content: \"\";position: absolute;border-left: 1px solid gray;box-sizing: border-box;top: 0;bottom: 0;left: 50%;z-index: -1;}#sk-container-id-1 div.sk-parallel-item {display: flex;flex-direction: column;z-index: 1;position: relative;background-color: white;}#sk-container-id-1 div.sk-parallel-item:first-child::after {align-self: flex-end;width: 50%;}#sk-container-id-1 div.sk-parallel-item:last-child::after {align-self: flex-start;width: 50%;}#sk-container-id-1 div.sk-parallel-item:only-child::after {width: 0;}#sk-container-id-1 div.sk-dashed-wrapped {border: 1px dashed gray;margin: 0 0.4em 0.5em 0.4em;box-sizing: border-box;padding-bottom: 0.4em;background-color: white;}#sk-container-id-1 div.sk-label label {font-family: monospace;font-weight: bold;display: inline-block;line-height: 1.2em;}#sk-container-id-1 div.sk-label-container {text-align: center;}#sk-container-id-1 div.sk-container {/* jupyter's `normalize.less` sets `[hidden] { display: none; }` but bootstrap.min.css set `[hidden] { display: none !important; }` so we also need the `!important` here to be able to override the default hidden behavior on the sphinx rendered scikit-learn.org. See: https://github.com/scikit-learn/scikit-learn/issues/21755 */display: inline-block !important;position: relative;}#sk-container-id-1 div.sk-text-repr-fallback {display: none;}</style><div id=\"sk-container-id-1\" class=\"sk-top-container\"><div class=\"sk-text-repr-fallback\"><pre>Pipeline(steps=[(&#x27;scaler&#x27;, MinMaxScaler()),\n",
       "                (&#x27;mlp&#x27;,\n",
       "                 MLPClassifier(activation=&#x27;logistic&#x27;, early_stopping=True,\n",
       "                               hidden_layer_sizes=(11, 32, 16, 4),\n",
       "                               learning_rate=&#x27;adaptive&#x27;,\n",
       "                               learning_rate_init=0.007, max_iter=100,\n",
       "                               verbose=True))])</pre><b>In a Jupyter environment, please rerun this cell to show the HTML representation or trust the notebook. <br />On GitHub, the HTML representation is unable to render, please try loading this page with nbviewer.org.</b></div><div class=\"sk-container\" hidden><div class=\"sk-item sk-dashed-wrapped\"><div class=\"sk-label-container\"><div class=\"sk-label sk-toggleable\"><input class=\"sk-toggleable__control sk-hidden--visually\" id=\"sk-estimator-id-1\" type=\"checkbox\" ><label for=\"sk-estimator-id-1\" class=\"sk-toggleable__label sk-toggleable__label-arrow\">Pipeline</label><div class=\"sk-toggleable__content\"><pre>Pipeline(steps=[(&#x27;scaler&#x27;, MinMaxScaler()),\n",
       "                (&#x27;mlp&#x27;,\n",
       "                 MLPClassifier(activation=&#x27;logistic&#x27;, early_stopping=True,\n",
       "                               hidden_layer_sizes=(11, 32, 16, 4),\n",
       "                               learning_rate=&#x27;adaptive&#x27;,\n",
       "                               learning_rate_init=0.007, max_iter=100,\n",
       "                               verbose=True))])</pre></div></div></div><div class=\"sk-serial\"><div class=\"sk-item\"><div class=\"sk-estimator sk-toggleable\"><input class=\"sk-toggleable__control sk-hidden--visually\" id=\"sk-estimator-id-2\" type=\"checkbox\" ><label for=\"sk-estimator-id-2\" class=\"sk-toggleable__label sk-toggleable__label-arrow\">MinMaxScaler</label><div class=\"sk-toggleable__content\"><pre>MinMaxScaler()</pre></div></div></div><div class=\"sk-item\"><div class=\"sk-estimator sk-toggleable\"><input class=\"sk-toggleable__control sk-hidden--visually\" id=\"sk-estimator-id-3\" type=\"checkbox\" ><label for=\"sk-estimator-id-3\" class=\"sk-toggleable__label sk-toggleable__label-arrow\">MLPClassifier</label><div class=\"sk-toggleable__content\"><pre>MLPClassifier(activation=&#x27;logistic&#x27;, early_stopping=True,\n",
       "              hidden_layer_sizes=(11, 32, 16, 4), learning_rate=&#x27;adaptive&#x27;,\n",
       "              learning_rate_init=0.007, max_iter=100, verbose=True)</pre></div></div></div></div></div></div></div>"
      ],
      "text/plain": [
       "Pipeline(steps=[('scaler', MinMaxScaler()),\n",
       "                ('mlp',\n",
       "                 MLPClassifier(activation='logistic', early_stopping=True,\n",
       "                               hidden_layer_sizes=(11, 32, 16, 4),\n",
       "                               learning_rate='adaptive',\n",
       "                               learning_rate_init=0.007, max_iter=100,\n",
       "                               verbose=True))])"
      ]
     },
     "execution_count": 13,
     "metadata": {},
     "output_type": "execute_result"
    }
   ],
   "source": [
    "# Realizando o treinamento\n",
    "full_pipe.fit(X_train,y_train)"
   ]
  },
  {
   "cell_type": "code",
   "execution_count": 14,
   "metadata": {
    "id": "BjVKwKfR00dW"
   },
   "outputs": [
    {
     "name": "stdout",
     "output_type": "stream",
     "text": [
      "[3 3 0 ... 2 1 3]\n"
     ]
    }
   ],
   "source": [
    "# Usando preditor para os dados de treino\n",
    "y_train_pred = full_pipe.predict(X_train)\n",
    "print(y_train_pred)"
   ]
  },
  {
   "cell_type": "code",
   "execution_count": 15,
   "metadata": {
    "id": "tvStbK4x3J2h"
   },
   "outputs": [
    {
     "name": "stdout",
     "output_type": "stream",
     "text": [
      "0.9962354709820122\n"
     ]
    }
   ],
   "source": [
    "y_train_score = full_pipe.score(X_train, y_train)\n",
    "print(y_train_score)"
   ]
  },
  {
   "cell_type": "code",
   "execution_count": 16,
   "metadata": {
    "id": "xSWQqWDs3Pwi"
   },
   "outputs": [
    {
     "name": "stdout",
     "output_type": "stream",
     "text": [
      "[3 0 2 ... 1 1 3]\n"
     ]
    }
   ],
   "source": [
    "# Usando o preditor nos dados de teste\n",
    "y_test_pred = full_pipe.predict(X_test)\n",
    "print(y_test_pred)"
   ]
  },
  {
   "cell_type": "code",
   "execution_count": 17,
   "metadata": {
    "id": "QcM9xwAI3WT4"
   },
   "outputs": [
    {
     "name": "stdout",
     "output_type": "stream",
     "text": [
      "0.9961738583957931\n"
     ]
    }
   ],
   "source": [
    "# Observando a acurácia do modelo nos dados de teste\n",
    "y_test_score = full_pipe.score(X_test, y_test)\n",
    "print(y_test_score)"
   ]
  },
  {
   "cell_type": "code",
   "execution_count": 18,
   "metadata": {
    "id": "NLVN0de-3auR"
   },
   "outputs": [
    {
     "data": {
      "image/png": "[encoded data removed]",
      "text/plain": [
       "<Figure size 640x480 with 1 Axes>"
      ]
     },
     "metadata": {},
     "output_type": "display_data"
    }
   ],
   "source": [
    "# Curva de perdas do melhor modelo\n",
    "plt.plot(mlp_clf.loss_curve_)\n",
    "plt.title(\"Loss Curve\", fontsize=14)\n",
    "plt.xlabel('Iterations')\n",
    "plt.ylabel('Cost')\n",
    "plt.show()"
   ]
  },
  {
   "cell_type": "code",
   "execution_count": 19,
   "metadata": {
    "id": "UFloZ0Hw3eXQ"
   },
   "outputs": [
    {
     "name": "stdout",
     "output_type": "stream",
     "text": [
      "Classification report for classifier MLPClassifier(activation='logistic', early_stopping=True,\n",
      "              hidden_layer_sizes=(11, 32, 16, 4), learning_rate='adaptive',\n",
      "              learning_rate_init=0.007, max_iter=100, verbose=True):\n",
      "              precision    recall  f1-score   support\n",
      "\n",
      "           0       1.00      0.99      1.00     25485\n",
      "           1       0.99      1.00      1.00     27002\n",
      "           2       1.00      0.99      1.00     26923\n",
      "           3       0.99      1.00      1.00     28793\n",
      "\n",
      "    accuracy                           1.00    108203\n",
      "   macro avg       1.00      1.00      1.00    108203\n",
      "weighted avg       1.00      1.00      1.00    108203\n",
      "\n",
      "\n"
     ]
    }
   ],
   "source": [
    "print(\n",
    "    f\"Classification report for classifier {mlp_clf}:\\n\"\n",
    "    f\"{metrics.classification_report(y_test, y_test_pred)}\\n\"\n",
    ")"
   ]
  },
  {
   "cell_type": "code",
   "execution_count": 20,
   "metadata": {
    "id": "lgQW9L3K3k75"
   },
   "outputs": [
    {
     "name": "stdout",
     "output_type": "stream",
     "text": [
      "Matriz de confusão:\n",
      "[[25319   141    25     0]\n",
      " [    4 26988     0    10]\n",
      " [   14     0 26714   195]\n",
      " [    0    25     0 28768]]\n"
     ]
    },
    {
     "data": {
      "image/png": "[encoded data removed]",
      "text/plain": [
       "<Figure size 640x480 with 2 Axes>"
      ]
     },
     "metadata": {},
     "output_type": "display_data"
    }
   ],
   "source": [
    "disp = metrics.ConfusionMatrixDisplay.from_predictions(y_test, y_test_pred)\n",
    "disp.figure_.suptitle(\"Matriz de confusão\")\n",
    "print(f\"Matriz de confusão:\\n{disp.confusion_matrix}\")\n",
    "\n",
    "plt.show()"
   ]
  },
  {
   "cell_type": "code",
   "execution_count": 51,
   "metadata": {
    "id": "eYN70s-D8uGQ"
   },
   "outputs": [
    {
     "data": {
      "text/plain": [
       "['/home/geraldo/Documentos/python_projects/iot-ia/mlp_smart_enviroument.joblib']"
      ]
     },
     "execution_count": 51,
     "metadata": {},
     "output_type": "execute_result"
    }
   ],
   "source": [
    "import joblib\n",
    "\n",
    "joblib.dump(full_pipe, '/home/geraldo/Documentos/python_projects/iot-ia/mlp_smart_enviroument.joblib')"
   ]
  },
  {
   "cell_type": "code",
   "execution_count": 52,
   "metadata": {},
   "outputs": [],
   "source": [
    "m = joblib.load('/home/geraldo/Documentos/python_projects/iot-ia/mlp_smart_enviroument.joblib')"
   ]
  },
  {
   "cell_type": "code",
   "execution_count": 50,
   "metadata": {},
   "outputs": [
    {
     "name": "stdout",
     "output_type": "stream",
     "text": [
      "[1]\n"
     ]
    },
    {
     "name": "stderr",
     "output_type": "stream",
     "text": [
      "/home/geraldo/anaconda3/lib/python3.11/site-packages/sklearn/base.py:464: UserWarning: X does not have valid feature names, but MinMaxScaler was fitted with feature names\n",
      "  warnings.warn(\n"
     ]
    }
   ],
   "source": [
    "# lux | humidity | temperature | ligthing_switch | climate_switch | door_actuator | lux_status | humidity_status\n",
    "# temperature_status | enviroument_temperature | enviroument_lux\n",
    "# testando dados\n",
    "features = [286, 50, 30, 1, 1, 1, 1, 1, 1, 25, 300]\n",
    "\n",
    "# convertendo para array\n",
    "features_array = np.array([features])\n",
    "\n",
    "# Prevendo a saída\n",
    "prediction = m.predict(features_array)\n",
    "\n",
    "# Mostrando o resultado\n",
    "print(prediction)\n"
   ]
  },
  {
   "cell_type": "code",
   "execution_count": 24,
   "metadata": {},
   "outputs": [
    {
     "data": {
      "text/plain": [
       "label\n",
       "3    288106\n",
       "2    271391\n",
       "1    267916\n",
       "0    254617\n",
       "Name: count, dtype: int64"
      ]
     },
     "execution_count": 24,
     "metadata": {},
     "output_type": "execute_result"
    }
   ],
   "source": [
    "data['label'].value_counts()"
   ]
  },
  {
   "cell_type": "code",
   "execution_count": 25,
   "metadata": {},
   "outputs": [
    {
     "data": {
      "text/plain": [
       "(1082030, 12)"
      ]
     },
     "execution_count": 25,
     "metadata": {},
     "output_type": "execute_result"
    }
   ],
   "source": [
    "data.shape"
   ]
  },
  {
   "cell_type": "code",
   "execution_count": 26,
   "metadata": {},
   "outputs": [
    {
     "data": {
      "text/plain": [
       "(10000000, 12)"
      ]
     },
     "execution_count": 26,
     "metadata": {},
     "output_type": "execute_result"
    }
   ],
   "source": [
    "dt.shape"
   ]
  },
  {
   "cell_type": "code",
   "execution_count": null,
   "metadata": {},
   "outputs": [],
   "source": []
  }
 ],
 "metadata": {
  "colab": {
   "provenance": []
  },
  "kernelspec": {
   "display_name": "Python 3",
   "language": "python",
   "name": "python3"
  },
  "language_info": {
   "codemirror_mode": {
    "name": "ipython",
    "version": 3
   },
   "file_extension": ".py",
   "mimetype": "text/x-python",
   "name": "python",
   "nbconvert_exporter": "python",
   "pygments_lexer": "ipython3",
   "version": "3.8.5"
  }
 },
 "nbformat": 4,
 "nbformat_minor": 1
}
