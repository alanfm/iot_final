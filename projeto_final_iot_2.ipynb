{
 "cells": [
  {
   "cell_type": "code",
   "execution_count": 1,
   "metadata": {
    "colab": {
     "base_uri": "https://localhost:8080/"
    },
    "id": "OD3c2CmZxrqD",
    "outputId": "d9ff7d09-544e-4130-f247-32e67862c3ef"
   },
   "outputs": [],
   "source": [
    "# importando bibliotecas\n",
    "import pandas as pd\n",
    "import pandas as pd\n",
    "from sklearn.model_selection import train_test_split, learning_curve\n",
    "#usada para o pré-processamento de daddos, minmax e standard para dimensionar e padronizar e o onehot para codificar variáveis em formato numérico\n",
    "from sklearn.preprocessing import MinMaxScaler\n",
    "from sklearn.pipeline import Pipeline\n",
    "#classificador redes neurais com MLP\n",
    "from sklearn.neural_network import MLPClassifier\n",
    "from sklearn.impute import SimpleImputer\n",
    "from sklearn.svm import SVC\n",
    "from sklearn.tree import DecisionTreeClassifier\n",
    "from sklearn.ensemble import RandomForestClassifier\n",
    "import matplotlib.pyplot as plt\n",
    "from sklearn.metrics import accuracy_score, confusion_matrix, precision_score, recall_score, ConfusionMatrixDisplay, f1_score\n",
    "from sklearn import metrics\n",
    "import numpy as np"
   ]
  },
  {
   "cell_type": "code",
   "execution_count": 2,
   "metadata": {
    "id": "LWM99rr0ycZk"
   },
   "outputs": [],
   "source": [
    "dt = pd.read_csv('/home/geraldo/Documentos/python_projects/iot-ia/database_iot_pf.csv', low_memory=False)"
   ]
  },
  {
   "cell_type": "code",
   "execution_count": 3,
   "metadata": {
    "colab": {
     "base_uri": "https://localhost:8080/",
     "height": 226
    },
    "id": "d9BXeoD2zBMa",
    "outputId": "50682214-3286-45a9-c50e-1962ce25da7d"
   },
   "outputs": [
    {
     "data": {
      "text/html": [
       "<div>\n",
       "<style scoped>\n",
       "    .dataframe tbody tr th:only-of-type {\n",
       "        vertical-align: middle;\n",
       "    }\n",
       "\n",
       "    .dataframe tbody tr th {\n",
       "        vertical-align: top;\n",
       "    }\n",
       "\n",
       "    .dataframe thead th {\n",
       "        text-align: right;\n",
       "    }\n",
       "</style>\n",
       "<table border=\"1\" class=\"dataframe\">\n",
       "  <thead>\n",
       "    <tr style=\"text-align: right;\">\n",
       "      <th></th>\n",
       "      <th>lux</th>\n",
       "      <th>humidity</th>\n",
       "      <th>temperature</th>\n",
       "      <th>lighting_switch</th>\n",
       "      <th>climate_switch</th>\n",
       "      <th>door_actuator</th>\n",
       "      <th>lux_status</th>\n",
       "      <th>humidity_status</th>\n",
       "      <th>temperature_status</th>\n",
       "      <th>environment_temperature</th>\n",
       "      <th>environment_lux</th>\n",
       "      <th>label</th>\n",
       "    </tr>\n",
       "  </thead>\n",
       "  <tbody>\n",
       "    <tr>\n",
       "      <th>0</th>\n",
       "      <td>108.385419</td>\n",
       "      <td>50.247112</td>\n",
       "      <td>47.334662</td>\n",
       "      <td>1</td>\n",
       "      <td>1</td>\n",
       "      <td>1</td>\n",
       "      <td>1</td>\n",
       "      <td>1</td>\n",
       "      <td>0</td>\n",
       "      <td>19</td>\n",
       "      <td>400</td>\n",
       "      <td>3</td>\n",
       "    </tr>\n",
       "    <tr>\n",
       "      <th>1</th>\n",
       "      <td>86.984219</td>\n",
       "      <td>74.412700</td>\n",
       "      <td>67.968519</td>\n",
       "      <td>1</td>\n",
       "      <td>1</td>\n",
       "      <td>1</td>\n",
       "      <td>1</td>\n",
       "      <td>1</td>\n",
       "      <td>1</td>\n",
       "      <td>24</td>\n",
       "      <td>300</td>\n",
       "      <td>3</td>\n",
       "    </tr>\n",
       "    <tr>\n",
       "      <th>2</th>\n",
       "      <td>227.617681</td>\n",
       "      <td>62.304369</td>\n",
       "      <td>71.416293</td>\n",
       "      <td>1</td>\n",
       "      <td>1</td>\n",
       "      <td>1</td>\n",
       "      <td>1</td>\n",
       "      <td>1</td>\n",
       "      <td>1</td>\n",
       "      <td>21</td>\n",
       "      <td>450</td>\n",
       "      <td>3</td>\n",
       "    </tr>\n",
       "    <tr>\n",
       "      <th>3</th>\n",
       "      <td>140.915569</td>\n",
       "      <td>58.082378</td>\n",
       "      <td>55.103730</td>\n",
       "      <td>1</td>\n",
       "      <td>1</td>\n",
       "      <td>1</td>\n",
       "      <td>1</td>\n",
       "      <td>1</td>\n",
       "      <td>0</td>\n",
       "      <td>16</td>\n",
       "      <td>250</td>\n",
       "      <td>3</td>\n",
       "    </tr>\n",
       "    <tr>\n",
       "      <th>4</th>\n",
       "      <td>233.051872</td>\n",
       "      <td>71.323435</td>\n",
       "      <td>58.827894</td>\n",
       "      <td>1</td>\n",
       "      <td>0</td>\n",
       "      <td>1</td>\n",
       "      <td>1</td>\n",
       "      <td>1</td>\n",
       "      <td>1</td>\n",
       "      <td>25</td>\n",
       "      <td>300</td>\n",
       "      <td>3</td>\n",
       "    </tr>\n",
       "  </tbody>\n",
       "</table>\n",
       "</div>"
      ],
      "text/plain": [
       "          lux   humidity  temperature  lighting_switch  climate_switch  \\\n",
       "0  108.385419  50.247112    47.334662                1               1   \n",
       "1   86.984219  74.412700    67.968519                1               1   \n",
       "2  227.617681  62.304369    71.416293                1               1   \n",
       "3  140.915569  58.082378    55.103730                1               1   \n",
       "4  233.051872  71.323435    58.827894                1               0   \n",
       "\n",
       "   door_actuator  lux_status  humidity_status  temperature_status  \\\n",
       "0              1           1                1                   0   \n",
       "1              1           1                1                   1   \n",
       "2              1           1                1                   1   \n",
       "3              1           1                1                   0   \n",
       "4              1           1                1                   1   \n",
       "\n",
       "   environment_temperature  environment_lux  label  \n",
       "0                       19              400      3  \n",
       "1                       24              300      3  \n",
       "2                       21              450      3  \n",
       "3                       16              250      3  \n",
       "4                       25              300      3  "
      ]
     },
     "execution_count": 3,
     "metadata": {},
     "output_type": "execute_result"
    }
   ],
   "source": [
    "dt.head()"
   ]
  },
  {
   "cell_type": "code",
   "execution_count": 4,
   "metadata": {
    "colab": {
     "base_uri": "https://localhost:8080/"
    },
    "id": "luIrxUxLzECi",
    "outputId": "6736982c-af86-4d4a-fc74-75efb0309bff"
   },
   "outputs": [
    {
     "data": {
      "text/plain": [
       "label\n",
       "3    287386\n",
       "2    271456\n",
       "1    267847\n",
       "0    254634\n",
       "Name: count, dtype: int64"
      ]
     },
     "execution_count": 4,
     "metadata": {},
     "output_type": "execute_result"
    }
   ],
   "source": [
    "dt['label'].value_counts()"
   ]
  },
  {
   "cell_type": "code",
   "execution_count": 6,
   "metadata": {},
   "outputs": [],
   "source": [
    "# normal = dt.loc[dt['label'] == 0]\n",
    "# arcond = dt.loc[dt['label'] == 1]\n",
    "# ilu = dt.loc[dt['label'] == 2]\n",
    "# iluar = dt.loc[dt['label'] == 3]"
   ]
  },
  {
   "cell_type": "code",
   "execution_count": 7,
   "metadata": {},
   "outputs": [],
   "source": [
    "# Selecionando aleatoriamente aproximadamente 51000 amostras de cada classe para balancear os dados de treinamento\n",
    "\n",
    "# X_train_ilu, X_tst_ilu, y_train_ilu, y_tst_ilu = train_test_split(ilu.drop(['label'],axis=1), ilu['label'], test_size=0.13, shuffle=True)\n",
    "# X_train_arcond, X_tst_arcond, y_train_arcond, y_tst_arcond = train_test_split(arcond.drop(['label'],axis=1), arcond['label'], test_size=0.29, shuffle=True)\n",
    "# X_train_normal, X_tst_normal, y_train_normal, y_tst_normal = train_test_split(normal.drop(['label'],axis=1), normal['label'], test_size=0.038, shuffle=True)"
   ]
  },
  {
   "cell_type": "code",
   "execution_count": 8,
   "metadata": {},
   "outputs": [],
   "source": [
    "# Transformando array em series pandas novamente\n",
    "# normal_pd_X = pd.DataFrame(X_tst_normal)\n",
    "# normal_pd_y = pd.DataFrame(y_tst_normal)\n",
    "# ilu_pd_X = pd.DataFrame(X_tst_ilu)\n",
    "# ilu_pd_y = pd.DataFrame(y_tst_ilu)\n",
    "# arcond_pd_X = pd.DataFrame(X_tst_arcond)\n",
    "# arcond_pd_y = pd.DataFrame(y_tst_arcond)\n",
    "\n",
    "# normal_pd_X['label'] = normal_pd_y\n",
    "# ilu_pd_X['label'] = ilu_pd_y\n",
    "# arcond_pd_X['label'] = arcond_pd_y\n",
    "\n",
    "# # concatenando as amostras das 4 classes de saída\n",
    "# data = pd.concat([iluar, normal_pd_X, ilu_pd_X, arcond_pd_X])\n",
    "# data['label'].value_counts()"
   ]
  },
  {
   "cell_type": "code",
   "execution_count": 9,
   "metadata": {
    "colab": {
     "base_uri": "https://localhost:8080/"
    },
    "id": "kIvyfwP2xsg3",
    "outputId": "e08d0d20-302c-48ad-eee5-abe8852f7cd5"
   },
   "outputs": [],
   "source": [
    "# data.info()"
   ]
  },
  {
   "cell_type": "code",
   "execution_count": 10,
   "metadata": {
    "colab": {
     "base_uri": "https://localhost:8080/"
    },
    "id": "JnAT6Myn1IAT",
    "outputId": "cff3a3a3-3b3d-47e9-f261-3b98aa2fd123"
   },
   "outputs": [
    {
     "name": "stdout",
     "output_type": "stream",
     "text": [
      "11\n"
     ]
    }
   ],
   "source": [
    "# Número de features\n",
    "inputs = len(dt.columns)-1\n",
    "print(inputs)"
   ]
  },
  {
   "cell_type": "code",
   "execution_count": 11,
   "metadata": {},
   "outputs": [],
   "source": [
    "#função para plotar a curva de aprendizagem\n",
    "def plot_learning_curve(estimator, title, X, y, cv=None, n_jobs=None, train_sizes=np.linspace(0.1, 1.0, 5)):\n",
    "    plt.figure()\n",
    "    plt.title(title)\n",
    "    plt.xlabel(\"Training examples\")\n",
    "    plt.ylabel(\"Score\")\n",
    "    \n",
    "    train_sizes, train_scores, test_scores = learning_curve(estimator, X, y, cv=cv, n_jobs=n_jobs, train_sizes=train_sizes)\n",
    "    \n",
    "    train_scores_mean = np.mean(train_scores, axis=1)\n",
    "    train_scores_std = np.std(train_scores, axis=1)\n",
    "    test_scores_mean = np.mean(test_scores, axis=1)\n",
    "    test_scores_std = np.std(test_scores, axis=1)\n",
    "    \n",
    "    plt.grid()\n",
    "    \n",
    "    plt.fill_between(train_sizes, train_scores_mean - train_scores_std,\n",
    "                     train_scores_mean + train_scores_std, alpha=0.1,\n",
    "                     color=\"r\")\n",
    "    plt.fill_between(train_sizes, test_scores_mean - test_scores_std,\n",
    "                     test_scores_mean + test_scores_std, alpha=0.1,\n",
    "                     color=\"g\")\n",
    "    plt.plot(train_sizes, train_scores_mean, 'o-', color=\"r\",\n",
    "             label=\"Training score\")\n",
    "    plt.plot(train_sizes, test_scores_mean, 'o-', color=\"g\",\n",
    "             label=\"Cross-validation score\")\n",
    "    \n",
    "    plt.legend(loc=\"best\")\n",
    "    return plt\n"
   ]
  },
  {
   "cell_type": "code",
   "execution_count": 12,
   "metadata": {},
   "outputs": [],
   "source": [
    "#hiperparâmetros\n",
    "svm_params = {\n",
    "    'C': [0.1, 1, 10, 100],\n",
    "    'kernel': ['linear', 'rbf', 'poly'],\n",
    "    'gamma': ['scale', 'auto']\n",
    "}\n",
    "\n",
    "tree_params = {\n",
    "    'criterion': ['gini', 'entropy'],\n",
    "    'max_depth': [None, 10, 20, 30, 50],\n",
    "    'min_samples_split': [2, 5, 10],\n",
    "    'min_samples_leaf': [1, 2, 4]\n",
    "}\n",
    "\n",
    "forest_params = {\n",
    "    'n_estimators': [50, 100, 200],\n",
    "    'criterion': ['gini', 'entropy'],\n",
    "    'max_depth': [None, 10, 20, 30, 50],\n",
    "    'min_samples_split': [2, 5, 10],\n",
    "    'min_samples_leaf': [1, 2, 4],\n",
    "    'bootstrap': [True, False]\n",
    "}"
   ]
  },
  {
   "cell_type": "code",
   "execution_count": 13,
   "metadata": {},
   "outputs": [],
   "source": [
    "models = {\n",
    "#     'MLP': MLPClassifier(hidden_layer_sizes=(inputs,32,16,4),\n",
    "#                         max_iter = 100,activation = 'logistic',\n",
    "#                         solver = 'adam',learning_rate = 'adaptive',\n",
    "#                         learning_rate_init = 0.007, early_stopping = True,\n",
    "#                         verbose=True),\n",
    "    'SVM': SVC(random_state=42),\n",
    "#     'Decision Tree': DecisionTreeClassifier(random_state=42),\n",
    "#     'Random Forest': RandomForestClassifier(random_state=42)\n",
    "}"
   ]
  },
  {
   "cell_type": "code",
   "execution_count": 14,
   "metadata": {},
   "outputs": [],
   "source": [
    "# X = pd.concat([X_train, X_test])\n",
    "# y = pd.concat([y_train, y_test])\n",
    "\n",
    "X_train, X_test, y_train, y_test = train_test_split(dt.drop(['label'],axis=1), dt['label'], test_size=0.13, shuffle=True)\n"
   ]
  },
  {
   "cell_type": "code",
   "execution_count": null,
   "metadata": {},
   "outputs": [],
   "source": [
    "for name, model in models.items():\n",
    "    plot_learning_curve(model, f'Learning Curve ({name})', X_train, y_train, cv=3, train_sizes=np.linspace(0.1, 1.0, 5))\n",
    "    plt.show()"
   ]
  },
  {
   "cell_type": "code",
   "execution_count": null,
   "metadata": {
    "id": "xKRyS9aIzI3b"
   },
   "outputs": [],
   "source": [
    "# Modelo de MLP para classificação criado\n",
    "mlp_clf = MLPClassifier(hidden_layer_sizes=(inputs,32,16,4),\n",
    "                        max_iter = 100,activation = 'logistic',\n",
    "                        solver = 'adam',learning_rate = 'adaptive',\n",
    "                        learning_rate_init = 0.007, early_stopping = True,\n",
    "                        verbose=True)"
   ]
  },
  {
   "cell_type": "code",
   "execution_count": null,
   "metadata": {
    "id": "6qvWMMpK0Qg0"
   },
   "outputs": [],
   "source": [
    "# Dividindo os dados em treino e teste\n",
    "X_train, X_test, y_train, y_test = train_test_split(data.drop(['label'],axis=1), data['label'], test_size=0.1, shuffle=True)"
   ]
  },
  {
   "cell_type": "code",
   "execution_count": null,
   "metadata": {
    "id": "y9PSunI10iVb"
   },
   "outputs": [],
   "source": [
    "full_pipe = Pipeline(steps=[\n",
    "#     ('imputer', SimpleImputer(strategy='median')),\n",
    "    ('scaler', MinMaxScaler()),\n",
    "    ('mlp', mlp_clf)\n",
    "])"
   ]
  },
  {
   "cell_type": "code",
   "execution_count": null,
   "metadata": {
    "colab": {
     "base_uri": "https://localhost:8080/",
     "height": 304
    },
    "id": "xYGXVv9p0uSv",
    "outputId": "284ae33c-7c7b-4da1-81ed-1d90aba784c7"
   },
   "outputs": [],
   "source": [
    "# Realizando o treinamento\n",
    "full_pipe.fit(X_train,y_train)"
   ]
  },
  {
   "cell_type": "code",
   "execution_count": null,
   "metadata": {
    "id": "BjVKwKfR00dW"
   },
   "outputs": [],
   "source": [
    "# Usando preditor para os dados de treino\n",
    "y_train_pred = full_pipe.predict(X_train)\n",
    "print(y_train_pred)"
   ]
  },
  {
   "cell_type": "code",
   "execution_count": null,
   "metadata": {
    "id": "tvStbK4x3J2h"
   },
   "outputs": [],
   "source": [
    "y_train_score = full_pipe.score(X_train, y_train)\n",
    "print(y_train_score)"
   ]
  },
  {
   "cell_type": "code",
   "execution_count": null,
   "metadata": {
    "id": "xSWQqWDs3Pwi"
   },
   "outputs": [],
   "source": [
    "# Usando o preditor nos dados de teste\n",
    "y_test_pred = full_pipe.predict(X_test)\n",
    "print(y_test_pred)"
   ]
  },
  {
   "cell_type": "code",
   "execution_count": null,
   "metadata": {
    "id": "QcM9xwAI3WT4"
   },
   "outputs": [],
   "source": [
    "# Observando a acurácia do modelo nos dados de teste\n",
    "y_test_score = full_pipe.score(X_test, y_test)\n",
    "print(y_test_score)"
   ]
  },
  {
   "cell_type": "code",
   "execution_count": null,
   "metadata": {
    "id": "NLVN0de-3auR"
   },
   "outputs": [],
   "source": [
    "# Curva de perdas do melhor modelo\n",
    "plt.plot(mlp_clf.loss_curve_)\n",
    "plt.title(\"Loss Curve\", fontsize=14)\n",
    "plt.xlabel('Iterations')\n",
    "plt.ylabel('Cost')\n",
    "plt.show()"
   ]
  },
  {
   "cell_type": "code",
   "execution_count": null,
   "metadata": {
    "id": "UFloZ0Hw3eXQ"
   },
   "outputs": [],
   "source": [
    "print(\n",
    "    f\"Classification report for classifier {mlp_clf}:\\n\"\n",
    "    f\"{metrics.classification_report(y_test, y_test_pred)}\\n\"\n",
    ")"
   ]
  },
  {
   "cell_type": "code",
   "execution_count": null,
   "metadata": {
    "id": "lgQW9L3K3k75"
   },
   "outputs": [],
   "source": [
    "disp = metrics.ConfusionMatrixDisplay.from_predictions(y_test, y_test_pred)\n",
    "disp.figure_.suptitle(\"Matriz de confusão\")\n",
    "print(f\"Matriz de confusão:\\n{disp.confusion_matrix}\")\n",
    "\n",
    "plt.show()"
   ]
  },
  {
   "cell_type": "code",
   "execution_count": null,
   "metadata": {
    "id": "eYN70s-D8uGQ"
   },
   "outputs": [],
   "source": [
    "import joblib\n",
    "\n",
    "joblib.dump(full_pipe, '/home/geraldo/Documentos/python_projects/iot-ia/mlp_smart_enviroument.joblib')"
   ]
  },
  {
   "cell_type": "code",
   "execution_count": null,
   "metadata": {},
   "outputs": [],
   "source": [
    "m = joblib.load('/home/geraldo/Documentos/python_projects/iot-ia/mlp_smart_enviroument.joblib')"
   ]
  },
  {
   "cell_type": "code",
   "execution_count": null,
   "metadata": {},
   "outputs": [],
   "source": [
    "# lux | humidity | temperature | ligthing_switch | climate_switch | door_actuator | lux_status | humidity_status\n",
    "# temperature_status | enviroument_temperature | enviroument_lux\n",
    "# testando dados\n",
    "features = [286, 50, 30, 1, 1, 1, 1, 1, 1, 25, 300]\n",
    "\n",
    "# convertendo para array\n",
    "features_array = np.array([features])\n",
    "\n",
    "# Prevendo a saída\n",
    "prediction = m.predict(features_array)\n",
    "\n",
    "# Mostrando o resultado\n",
    "print(prediction)\n"
   ]
  },
  {
   "cell_type": "code",
   "execution_count": null,
   "metadata": {},
   "outputs": [],
   "source": [
    "data['label'].value_counts()"
   ]
  },
  {
   "cell_type": "code",
   "execution_count": null,
   "metadata": {},
   "outputs": [],
   "source": [
    "data.shape"
   ]
  },
  {
   "cell_type": "code",
   "execution_count": null,
   "metadata": {},
   "outputs": [],
   "source": [
    "dt.shape"
   ]
  },
  {
   "cell_type": "code",
   "execution_count": null,
   "metadata": {},
   "outputs": [],
   "source": []
  },
  {
   "cell_type": "code",
   "execution_count": null,
   "metadata": {},
   "outputs": [],
   "source": []
  }
 ],
 "metadata": {
  "colab": {
   "provenance": []
  },
  "kernelspec": {
   "display_name": "rapids-21.12",
   "language": "python",
   "name": "rapids-21.12"
  },
  "language_info": {
   "codemirror_mode": {
    "name": "ipython",
    "version": 3
   },
   "file_extension": ".py",
   "mimetype": "text/x-python",
   "name": "python",
   "nbconvert_exporter": "python",
   "pygments_lexer": "ipython3",
   "version": "3.8.15"
  }
 },
 "nbformat": 4,
 "nbformat_minor": 4
}
