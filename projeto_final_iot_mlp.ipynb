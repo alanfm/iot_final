{
  "cells": [
    {
      "cell_type": "code",
      "execution_count": 1,
      "metadata": {
        "id": "OD3c2CmZxrqD"
      },
      "outputs": [],
      "source": [
        "# importando bibliotecas\n",
        "import pandas as pd\n",
        "import pandas as pd\n",
        "from sklearn.model_selection import train_test_split, learning_curve\n",
        "#usada para o pré-processamento de daddos, minmax e standard para dimensionar e padronizar e o onehot para codificar variáveis em formato numérico\n",
        "from sklearn.preprocessing import MinMaxScaler\n",
        "from sklearn.pipeline import Pipeline\n",
        "#classificador redes neurais com MLP\n",
        "from sklearn.neural_network import MLPClassifier\n",
        "from sklearn.impute import SimpleImputer\n",
        "from sklearn.svm import SVC\n",
        "from sklearn.tree import DecisionTreeClassifier\n",
        "from sklearn.ensemble import RandomForestClassifier\n",
        "import matplotlib.pyplot as plt\n",
        "from sklearn.metrics import accuracy_score, confusion_matrix, precision_score, recall_score, ConfusionMatrixDisplay, f1_score\n",
        "from sklearn import metrics\n",
        "import numpy as np\n",
        "import io\n",
        "from google.colab import files\n",
        "from sklearn.metrics import precision_recall_fscore_support\n",
        "from sklearn.metrics import roc_curve, roc_auc_score\n",
        "from sklearn.metrics import RocCurveDisplay\n",
        "import logging\n",
        "from joblib import Parallel, delayed"
      ]
    },
    {
      "cell_type": "code",
      "execution_count": 2,
      "metadata": {
        "colab": {
          "base_uri": "https://localhost:8080/"
        },
        "id": "ADQF0mGCGsar",
        "outputId": "52baabe2-0971-472c-cfd1-20a76f45d78d"
      },
      "outputs": [
        {
          "output_type": "stream",
          "name": "stdout",
          "text": [
            "Mounted at /content/drive\n"
          ]
        }
      ],
      "source": [
        "from google.colab import drive\n",
        "drive.mount('/content/drive')"
      ]
    },
    {
      "cell_type": "code",
      "execution_count": 3,
      "metadata": {
        "id": "vOpVmyTPEA_I"
      },
      "outputs": [],
      "source": [
        "dt = pd.read_csv('/content/drive/MyDrive/Colab Notebooks/PROJETO FINAL - IOT/database_iot_pf.csv')"
      ]
    },
    {
      "cell_type": "code",
      "execution_count": 4,
      "metadata": {
        "id": "QFB8kdpeI9Ne",
        "colab": {
          "base_uri": "https://localhost:8080/"
        },
        "outputId": "f8f1c529-3895-434c-d03b-021ad84c039a"
      },
      "outputs": [
        {
          "output_type": "stream",
          "name": "stdout",
          "text": [
            "[3, 2, 0, 1]\n"
          ]
        }
      ],
      "source": [
        "target_names = dt['label'].value_counts()\n",
        "target_names = target_names.index.tolist()\n",
        "print(target_names)"
      ]
    },
    {
      "cell_type": "code",
      "execution_count": 5,
      "metadata": {
        "id": "2rHXMmZhE0tz",
        "colab": {
          "base_uri": "https://localhost:8080/"
        },
        "outputId": "3d9e5b2b-7b1b-4374-e11d-588f8cc2a368"
      },
      "outputs": [
        {
          "output_type": "stream",
          "name": "stdout",
          "text": [
            "[3, 2, 0, 1]\n"
          ]
        }
      ],
      "source": [
        "# dt.info()\n",
        "\n",
        "print(target_names)"
      ]
    },
    {
      "cell_type": "code",
      "execution_count": 6,
      "metadata": {
        "id": "d9BXeoD2zBMa",
        "colab": {
          "base_uri": "https://localhost:8080/",
          "height": 206
        },
        "outputId": "d0e57a67-d700-4cc7-a93e-ddc8cd02e0c6"
      },
      "outputs": [
        {
          "output_type": "execute_result",
          "data": {
            "text/plain": [
              "          lux   humidity  temperature  lighting_switch  climate_switch  \\\n",
              "0  108.385419  50.247112    47.334662                1               1   \n",
              "1   86.984219  74.412700    67.968519                1               1   \n",
              "2  227.617681  62.304369    71.416293                1               1   \n",
              "3  140.915569  58.082378    55.103730                1               1   \n",
              "4  233.051872  71.323435    58.827894                1               0   \n",
              "\n",
              "   door_actuator  lux_status  humidity_status  temperature_status  \\\n",
              "0              1           1                1                   0   \n",
              "1              1           1                1                   1   \n",
              "2              1           1                1                   1   \n",
              "3              1           1                1                   0   \n",
              "4              1           1                1                   1   \n",
              "\n",
              "   environment_temperature  environment_lux  label  \n",
              "0                       19              400      3  \n",
              "1                       24              300      3  \n",
              "2                       21              450      3  \n",
              "3                       16              250      3  \n",
              "4                       25              300      3  "
            ],
            "text/html": [
              "\n",
              "  <div id=\"df-0b1e3d1a-87e2-4a15-a631-41e2120ecaab\" class=\"colab-df-container\">\n",
              "    <div>\n",
              "<style scoped>\n",
              "    .dataframe tbody tr th:only-of-type {\n",
              "        vertical-align: middle;\n",
              "    }\n",
              "\n",
              "    .dataframe tbody tr th {\n",
              "        vertical-align: top;\n",
              "    }\n",
              "\n",
              "    .dataframe thead th {\n",
              "        text-align: right;\n",
              "    }\n",
              "</style>\n",
              "<table border=\"1\" class=\"dataframe\">\n",
              "  <thead>\n",
              "    <tr style=\"text-align: right;\">\n",
              "      <th></th>\n",
              "      <th>lux</th>\n",
              "      <th>humidity</th>\n",
              "      <th>temperature</th>\n",
              "      <th>lighting_switch</th>\n",
              "      <th>climate_switch</th>\n",
              "      <th>door_actuator</th>\n",
              "      <th>lux_status</th>\n",
              "      <th>humidity_status</th>\n",
              "      <th>temperature_status</th>\n",
              "      <th>environment_temperature</th>\n",
              "      <th>environment_lux</th>\n",
              "      <th>label</th>\n",
              "    </tr>\n",
              "  </thead>\n",
              "  <tbody>\n",
              "    <tr>\n",
              "      <th>0</th>\n",
              "      <td>108.385419</td>\n",
              "      <td>50.247112</td>\n",
              "      <td>47.334662</td>\n",
              "      <td>1</td>\n",
              "      <td>1</td>\n",
              "      <td>1</td>\n",
              "      <td>1</td>\n",
              "      <td>1</td>\n",
              "      <td>0</td>\n",
              "      <td>19</td>\n",
              "      <td>400</td>\n",
              "      <td>3</td>\n",
              "    </tr>\n",
              "    <tr>\n",
              "      <th>1</th>\n",
              "      <td>86.984219</td>\n",
              "      <td>74.412700</td>\n",
              "      <td>67.968519</td>\n",
              "      <td>1</td>\n",
              "      <td>1</td>\n",
              "      <td>1</td>\n",
              "      <td>1</td>\n",
              "      <td>1</td>\n",
              "      <td>1</td>\n",
              "      <td>24</td>\n",
              "      <td>300</td>\n",
              "      <td>3</td>\n",
              "    </tr>\n",
              "    <tr>\n",
              "      <th>2</th>\n",
              "      <td>227.617681</td>\n",
              "      <td>62.304369</td>\n",
              "      <td>71.416293</td>\n",
              "      <td>1</td>\n",
              "      <td>1</td>\n",
              "      <td>1</td>\n",
              "      <td>1</td>\n",
              "      <td>1</td>\n",
              "      <td>1</td>\n",
              "      <td>21</td>\n",
              "      <td>450</td>\n",
              "      <td>3</td>\n",
              "    </tr>\n",
              "    <tr>\n",
              "      <th>3</th>\n",
              "      <td>140.915569</td>\n",
              "      <td>58.082378</td>\n",
              "      <td>55.103730</td>\n",
              "      <td>1</td>\n",
              "      <td>1</td>\n",
              "      <td>1</td>\n",
              "      <td>1</td>\n",
              "      <td>1</td>\n",
              "      <td>0</td>\n",
              "      <td>16</td>\n",
              "      <td>250</td>\n",
              "      <td>3</td>\n",
              "    </tr>\n",
              "    <tr>\n",
              "      <th>4</th>\n",
              "      <td>233.051872</td>\n",
              "      <td>71.323435</td>\n",
              "      <td>58.827894</td>\n",
              "      <td>1</td>\n",
              "      <td>0</td>\n",
              "      <td>1</td>\n",
              "      <td>1</td>\n",
              "      <td>1</td>\n",
              "      <td>1</td>\n",
              "      <td>25</td>\n",
              "      <td>300</td>\n",
              "      <td>3</td>\n",
              "    </tr>\n",
              "  </tbody>\n",
              "</table>\n",
              "</div>\n",
              "    <div class=\"colab-df-buttons\">\n",
              "\n",
              "  <div class=\"colab-df-container\">\n",
              "    <button class=\"colab-df-convert\" onclick=\"convertToInteractive('df-0b1e3d1a-87e2-4a15-a631-41e2120ecaab')\"\n",
              "            title=\"Convert this dataframe to an interactive table.\"\n",
              "            style=\"display:none;\">\n",
              "\n",
              "  <svg xmlns=\"http://www.w3.org/2000/svg\" height=\"24px\" viewBox=\"0 -960 960 960\">\n",
              "    <path d=\"M120-120v-720h720v720H120Zm60-500h600v-160H180v160Zm220 220h160v-160H400v160Zm0 220h160v-160H400v160ZM180-400h160v-160H180v160Zm440 0h160v-160H620v160ZM180-180h160v-160H180v160Zm440 0h160v-160H620v160Z\"/>\n",
              "  </svg>\n",
              "    </button>\n",
              "\n",
              "  <style>\n",
              "    .colab-df-container {\n",
              "      display:flex;\n",
              "      gap: 12px;\n",
              "    }\n",
              "\n",
              "    .colab-df-convert {\n",
              "      background-color: #E8F0FE;\n",
              "      border: none;\n",
              "      border-radius: 50%;\n",
              "      cursor: pointer;\n",
              "      display: none;\n",
              "      fill: #1967D2;\n",
              "      height: 32px;\n",
              "      padding: 0 0 0 0;\n",
              "      width: 32px;\n",
              "    }\n",
              "\n",
              "    .colab-df-convert:hover {\n",
              "      background-color: #E2EBFA;\n",
              "      box-shadow: 0px 1px 2px rgba(60, 64, 67, 0.3), 0px 1px 3px 1px rgba(60, 64, 67, 0.15);\n",
              "      fill: #174EA6;\n",
              "    }\n",
              "\n",
              "    .colab-df-buttons div {\n",
              "      margin-bottom: 4px;\n",
              "    }\n",
              "\n",
              "    [theme=dark] .colab-df-convert {\n",
              "      background-color: #3B4455;\n",
              "      fill: #D2E3FC;\n",
              "    }\n",
              "\n",
              "    [theme=dark] .colab-df-convert:hover {\n",
              "      background-color: #434B5C;\n",
              "      box-shadow: 0px 1px 3px 1px rgba(0, 0, 0, 0.15);\n",
              "      filter: drop-shadow(0px 1px 2px rgba(0, 0, 0, 0.3));\n",
              "      fill: #FFFFFF;\n",
              "    }\n",
              "  </style>\n",
              "\n",
              "    <script>\n",
              "      const buttonEl =\n",
              "        document.querySelector('#df-0b1e3d1a-87e2-4a15-a631-41e2120ecaab button.colab-df-convert');\n",
              "      buttonEl.style.display =\n",
              "        google.colab.kernel.accessAllowed ? 'block' : 'none';\n",
              "\n",
              "      async function convertToInteractive(key) {\n",
              "        const element = document.querySelector('#df-0b1e3d1a-87e2-4a15-a631-41e2120ecaab');\n",
              "        const dataTable =\n",
              "          await google.colab.kernel.invokeFunction('convertToInteractive',\n",
              "                                                    [key], {});\n",
              "        if (!dataTable) return;\n",
              "\n",
              "        const docLinkHtml = 'Like what you see? Visit the ' +\n",
              "          '<a target=\"_blank\" href=https://colab.research.google.com/notebooks/data_table.ipynb>data table notebook</a>'\n",
              "          + ' to learn more about interactive tables.';\n",
              "        element.innerHTML = '';\n",
              "        dataTable['output_type'] = 'display_data';\n",
              "        await google.colab.output.renderOutput(dataTable, element);\n",
              "        const docLink = document.createElement('div');\n",
              "        docLink.innerHTML = docLinkHtml;\n",
              "        element.appendChild(docLink);\n",
              "      }\n",
              "    </script>\n",
              "  </div>\n",
              "\n",
              "\n",
              "<div id=\"df-510a1fb4-d46b-493a-9e0c-451ec8097ca7\">\n",
              "  <button class=\"colab-df-quickchart\" onclick=\"quickchart('df-510a1fb4-d46b-493a-9e0c-451ec8097ca7')\"\n",
              "            title=\"Suggest charts\"\n",
              "            style=\"display:none;\">\n",
              "\n",
              "<svg xmlns=\"http://www.w3.org/2000/svg\" height=\"24px\"viewBox=\"0 0 24 24\"\n",
              "     width=\"24px\">\n",
              "    <g>\n",
              "        <path d=\"M19 3H5c-1.1 0-2 .9-2 2v14c0 1.1.9 2 2 2h14c1.1 0 2-.9 2-2V5c0-1.1-.9-2-2-2zM9 17H7v-7h2v7zm4 0h-2V7h2v10zm4 0h-2v-4h2v4z\"/>\n",
              "    </g>\n",
              "</svg>\n",
              "  </button>\n",
              "\n",
              "<style>\n",
              "  .colab-df-quickchart {\n",
              "      --bg-color: #E8F0FE;\n",
              "      --fill-color: #1967D2;\n",
              "      --hover-bg-color: #E2EBFA;\n",
              "      --hover-fill-color: #174EA6;\n",
              "      --disabled-fill-color: #AAA;\n",
              "      --disabled-bg-color: #DDD;\n",
              "  }\n",
              "\n",
              "  [theme=dark] .colab-df-quickchart {\n",
              "      --bg-color: #3B4455;\n",
              "      --fill-color: #D2E3FC;\n",
              "      --hover-bg-color: #434B5C;\n",
              "      --hover-fill-color: #FFFFFF;\n",
              "      --disabled-bg-color: #3B4455;\n",
              "      --disabled-fill-color: #666;\n",
              "  }\n",
              "\n",
              "  .colab-df-quickchart {\n",
              "    background-color: var(--bg-color);\n",
              "    border: none;\n",
              "    border-radius: 50%;\n",
              "    cursor: pointer;\n",
              "    display: none;\n",
              "    fill: var(--fill-color);\n",
              "    height: 32px;\n",
              "    padding: 0;\n",
              "    width: 32px;\n",
              "  }\n",
              "\n",
              "  .colab-df-quickchart:hover {\n",
              "    background-color: var(--hover-bg-color);\n",
              "    box-shadow: 0 1px 2px rgba(60, 64, 67, 0.3), 0 1px 3px 1px rgba(60, 64, 67, 0.15);\n",
              "    fill: var(--button-hover-fill-color);\n",
              "  }\n",
              "\n",
              "  .colab-df-quickchart-complete:disabled,\n",
              "  .colab-df-quickchart-complete:disabled:hover {\n",
              "    background-color: var(--disabled-bg-color);\n",
              "    fill: var(--disabled-fill-color);\n",
              "    box-shadow: none;\n",
              "  }\n",
              "\n",
              "  .colab-df-spinner {\n",
              "    border: 2px solid var(--fill-color);\n",
              "    border-color: transparent;\n",
              "    border-bottom-color: var(--fill-color);\n",
              "    animation:\n",
              "      spin 1s steps(1) infinite;\n",
              "  }\n",
              "\n",
              "  @keyframes spin {\n",
              "    0% {\n",
              "      border-color: transparent;\n",
              "      border-bottom-color: var(--fill-color);\n",
              "      border-left-color: var(--fill-color);\n",
              "    }\n",
              "    20% {\n",
              "      border-color: transparent;\n",
              "      border-left-color: var(--fill-color);\n",
              "      border-top-color: var(--fill-color);\n",
              "    }\n",
              "    30% {\n",
              "      border-color: transparent;\n",
              "      border-left-color: var(--fill-color);\n",
              "      border-top-color: var(--fill-color);\n",
              "      border-right-color: var(--fill-color);\n",
              "    }\n",
              "    40% {\n",
              "      border-color: transparent;\n",
              "      border-right-color: var(--fill-color);\n",
              "      border-top-color: var(--fill-color);\n",
              "    }\n",
              "    60% {\n",
              "      border-color: transparent;\n",
              "      border-right-color: var(--fill-color);\n",
              "    }\n",
              "    80% {\n",
              "      border-color: transparent;\n",
              "      border-right-color: var(--fill-color);\n",
              "      border-bottom-color: var(--fill-color);\n",
              "    }\n",
              "    90% {\n",
              "      border-color: transparent;\n",
              "      border-bottom-color: var(--fill-color);\n",
              "    }\n",
              "  }\n",
              "</style>\n",
              "\n",
              "  <script>\n",
              "    async function quickchart(key) {\n",
              "      const quickchartButtonEl =\n",
              "        document.querySelector('#' + key + ' button');\n",
              "      quickchartButtonEl.disabled = true;  // To prevent multiple clicks.\n",
              "      quickchartButtonEl.classList.add('colab-df-spinner');\n",
              "      try {\n",
              "        const charts = await google.colab.kernel.invokeFunction(\n",
              "            'suggestCharts', [key], {});\n",
              "      } catch (error) {\n",
              "        console.error('Error during call to suggestCharts:', error);\n",
              "      }\n",
              "      quickchartButtonEl.classList.remove('colab-df-spinner');\n",
              "      quickchartButtonEl.classList.add('colab-df-quickchart-complete');\n",
              "    }\n",
              "    (() => {\n",
              "      let quickchartButtonEl =\n",
              "        document.querySelector('#df-510a1fb4-d46b-493a-9e0c-451ec8097ca7 button');\n",
              "      quickchartButtonEl.style.display =\n",
              "        google.colab.kernel.accessAllowed ? 'block' : 'none';\n",
              "    })();\n",
              "  </script>\n",
              "</div>\n",
              "\n",
              "    </div>\n",
              "  </div>\n"
            ],
            "application/vnd.google.colaboratory.intrinsic+json": {
              "type": "dataframe",
              "variable_name": "dt"
            }
          },
          "metadata": {},
          "execution_count": 6
        }
      ],
      "source": [
        "dt.head()"
      ]
    },
    {
      "cell_type": "code",
      "source": [
        "dt.info()"
      ],
      "metadata": {
        "colab": {
          "base_uri": "https://localhost:8080/"
        },
        "id": "DO7F3Ryibm8c",
        "outputId": "ea9de91f-c591-41dd-d444-6f02d1662cfd"
      },
      "execution_count": 7,
      "outputs": [
        {
          "output_type": "stream",
          "name": "stdout",
          "text": [
            "<class 'pandas.core.frame.DataFrame'>\n",
            "RangeIndex: 1018517 entries, 0 to 1018516\n",
            "Data columns (total 12 columns):\n",
            " #   Column                   Non-Null Count    Dtype  \n",
            "---  ------                   --------------    -----  \n",
            " 0   lux                      1018517 non-null  float64\n",
            " 1   humidity                 1018517 non-null  float64\n",
            " 2   temperature              1018517 non-null  float64\n",
            " 3   lighting_switch          1018517 non-null  int64  \n",
            " 4   climate_switch           1018517 non-null  int64  \n",
            " 5   door_actuator            1018517 non-null  int64  \n",
            " 6   lux_status               1018517 non-null  int64  \n",
            " 7   humidity_status          1018517 non-null  int64  \n",
            " 8   temperature_status       1018517 non-null  int64  \n",
            " 9   environment_temperature  1018517 non-null  int64  \n",
            " 10  environment_lux          1018517 non-null  int64  \n",
            " 11  label                    1018517 non-null  int64  \n",
            "dtypes: float64(3), int64(9)\n",
            "memory usage: 93.2 MB\n"
          ]
        }
      ]
    },
    {
      "cell_type": "code",
      "execution_count": 8,
      "metadata": {
        "id": "JnAT6Myn1IAT",
        "colab": {
          "base_uri": "https://localhost:8080/"
        },
        "outputId": "926266f4-60ec-4c45-e990-d02118d13324"
      },
      "outputs": [
        {
          "output_type": "stream",
          "name": "stdout",
          "text": [
            "11\n"
          ]
        }
      ],
      "source": [
        "# Número de features\n",
        "inputs = len(dt.columns)-1\n",
        "print(inputs)"
      ]
    },
    {
      "cell_type": "code",
      "execution_count": 9,
      "metadata": {
        "id": "xKRyS9aIzI3b"
      },
      "outputs": [],
      "source": [
        "# Modelo de MLP para classificação criado\n",
        "mlp_clf = MLPClassifier(hidden_layer_sizes=(inputs,32,16,4),\n",
        "                        max_iter = 100,activation = 'logistic',\n",
        "                        solver = 'adam',learning_rate = 'adaptive',\n",
        "                        learning_rate_init = 0.007, early_stopping = True,\n",
        "                        verbose=True)"
      ]
    },
    {
      "cell_type": "code",
      "execution_count": 10,
      "metadata": {
        "id": "6qvWMMpK0Qg0"
      },
      "outputs": [],
      "source": [
        "# Dividindo os dados em treino e teste\n",
        "X_train, X_test, y_train, y_test = train_test_split(dt.drop(['label'],axis=1), dt['label'], test_size=0.1, shuffle=True)"
      ]
    },
    {
      "cell_type": "code",
      "execution_count": 11,
      "metadata": {
        "id": "y9PSunI10iVb"
      },
      "outputs": [],
      "source": [
        "full_pipe = Pipeline(steps=[\n",
        "#     ('imputer', SimpleImputer(strategy='median')),\n",
        "    ('scaler', MinMaxScaler()),\n",
        "    ('mlp', mlp_clf)\n",
        "])"
      ]
    },
    {
      "cell_type": "code",
      "execution_count": 12,
      "metadata": {
        "id": "xYGXVv9p0uSv",
        "colab": {
          "base_uri": "https://localhost:8080/",
          "height": 1000
        },
        "outputId": "6f6778e5-ddb2-4293-e36a-b51bfbb90cf1"
      },
      "outputs": [
        {
          "output_type": "stream",
          "name": "stdout",
          "text": [
            "Iteration 1, loss = 0.24581975\n",
            "Validation score: 0.988000\n",
            "Iteration 2, loss = 0.06092107\n",
            "Validation score: 0.988644\n",
            "Iteration 3, loss = 0.06061659\n",
            "Validation score: 0.986473\n",
            "Iteration 4, loss = 0.05904999\n",
            "Validation score: 0.988524\n",
            "Iteration 5, loss = 0.04536821\n",
            "Validation score: 0.989822\n",
            "Iteration 6, loss = 0.03802312\n",
            "Validation score: 0.991862\n",
            "Iteration 7, loss = 0.03650422\n",
            "Validation score: 0.991185\n",
            "Iteration 8, loss = 0.03526219\n",
            "Validation score: 0.988840\n",
            "Iteration 9, loss = 0.03424892\n",
            "Validation score: 0.990804\n",
            "Iteration 10, loss = 0.03311472\n",
            "Validation score: 0.990225\n",
            "Iteration 11, loss = 0.03255114\n",
            "Validation score: 0.989385\n",
            "Iteration 12, loss = 0.03101202\n",
            "Validation score: 0.993662\n",
            "Iteration 13, loss = 0.03013913\n",
            "Validation score: 0.994807\n",
            "Iteration 14, loss = 0.02949810\n",
            "Validation score: 0.991611\n",
            "Iteration 15, loss = 0.02872426\n",
            "Validation score: 0.991109\n",
            "Iteration 16, loss = 0.02766138\n",
            "Validation score: 0.992353\n",
            "Iteration 17, loss = 0.02692655\n",
            "Validation score: 0.993236\n",
            "Iteration 18, loss = 0.02622940\n",
            "Validation score: 0.995691\n",
            "Iteration 19, loss = 0.02594370\n",
            "Validation score: 0.994611\n",
            "Iteration 20, loss = 0.02623622\n",
            "Validation score: 0.994709\n",
            "Iteration 21, loss = 0.02515575\n",
            "Validation score: 0.993956\n",
            "Iteration 22, loss = 0.02483699\n",
            "Validation score: 0.993520\n",
            "Iteration 23, loss = 0.02483007\n",
            "Validation score: 0.991567\n",
            "Iteration 24, loss = 0.02435813\n",
            "Validation score: 0.995418\n",
            "Iteration 25, loss = 0.02453827\n",
            "Validation score: 0.994513\n",
            "Iteration 26, loss = 0.02414891\n",
            "Validation score: 0.993705\n",
            "Iteration 27, loss = 0.02407559\n",
            "Validation score: 0.994535\n",
            "Iteration 28, loss = 0.02407023\n",
            "Validation score: 0.993553\n",
            "Iteration 29, loss = 0.02409789\n",
            "Validation score: 0.994273\n",
            "Validation score did not improve more than tol=0.000100 for 10 consecutive epochs. Stopping.\n"
          ]
        },
        {
          "output_type": "execute_result",
          "data": {
            "text/plain": [
              "Pipeline(steps=[('scaler', MinMaxScaler()),\n",
              "                ('mlp',\n",
              "                 MLPClassifier(activation='logistic', early_stopping=True,\n",
              "                               hidden_layer_sizes=(11, 32, 16, 4),\n",
              "                               learning_rate='adaptive',\n",
              "                               learning_rate_init=0.007, max_iter=100,\n",
              "                               verbose=True))])"
            ],
            "text/html": [
              "<style>#sk-container-id-1 {color: black;background-color: white;}#sk-container-id-1 pre{padding: 0;}#sk-container-id-1 div.sk-toggleable {background-color: white;}#sk-container-id-1 label.sk-toggleable__label {cursor: pointer;display: block;width: 100%;margin-bottom: 0;padding: 0.3em;box-sizing: border-box;text-align: center;}#sk-container-id-1 label.sk-toggleable__label-arrow:before {content: \"▸\";float: left;margin-right: 0.25em;color: #696969;}#sk-container-id-1 label.sk-toggleable__label-arrow:hover:before {color: black;}#sk-container-id-1 div.sk-estimator:hover label.sk-toggleable__label-arrow:before {color: black;}#sk-container-id-1 div.sk-toggleable__content {max-height: 0;max-width: 0;overflow: hidden;text-align: left;background-color: #f0f8ff;}#sk-container-id-1 div.sk-toggleable__content pre {margin: 0.2em;color: black;border-radius: 0.25em;background-color: #f0f8ff;}#sk-container-id-1 input.sk-toggleable__control:checked~div.sk-toggleable__content {max-height: 200px;max-width: 100%;overflow: auto;}#sk-container-id-1 input.sk-toggleable__control:checked~label.sk-toggleable__label-arrow:before {content: \"▾\";}#sk-container-id-1 div.sk-estimator input.sk-toggleable__control:checked~label.sk-toggleable__label {background-color: #d4ebff;}#sk-container-id-1 div.sk-label input.sk-toggleable__control:checked~label.sk-toggleable__label {background-color: #d4ebff;}#sk-container-id-1 input.sk-hidden--visually {border: 0;clip: rect(1px 1px 1px 1px);clip: rect(1px, 1px, 1px, 1px);height: 1px;margin: -1px;overflow: hidden;padding: 0;position: absolute;width: 1px;}#sk-container-id-1 div.sk-estimator {font-family: monospace;background-color: #f0f8ff;border: 1px dotted black;border-radius: 0.25em;box-sizing: border-box;margin-bottom: 0.5em;}#sk-container-id-1 div.sk-estimator:hover {background-color: #d4ebff;}#sk-container-id-1 div.sk-parallel-item::after {content: \"\";width: 100%;border-bottom: 1px solid gray;flex-grow: 1;}#sk-container-id-1 div.sk-label:hover label.sk-toggleable__label {background-color: #d4ebff;}#sk-container-id-1 div.sk-serial::before {content: \"\";position: absolute;border-left: 1px solid gray;box-sizing: border-box;top: 0;bottom: 0;left: 50%;z-index: 0;}#sk-container-id-1 div.sk-serial {display: flex;flex-direction: column;align-items: center;background-color: white;padding-right: 0.2em;padding-left: 0.2em;position: relative;}#sk-container-id-1 div.sk-item {position: relative;z-index: 1;}#sk-container-id-1 div.sk-parallel {display: flex;align-items: stretch;justify-content: center;background-color: white;position: relative;}#sk-container-id-1 div.sk-item::before, #sk-container-id-1 div.sk-parallel-item::before {content: \"\";position: absolute;border-left: 1px solid gray;box-sizing: border-box;top: 0;bottom: 0;left: 50%;z-index: -1;}#sk-container-id-1 div.sk-parallel-item {display: flex;flex-direction: column;z-index: 1;position: relative;background-color: white;}#sk-container-id-1 div.sk-parallel-item:first-child::after {align-self: flex-end;width: 50%;}#sk-container-id-1 div.sk-parallel-item:last-child::after {align-self: flex-start;width: 50%;}#sk-container-id-1 div.sk-parallel-item:only-child::after {width: 0;}#sk-container-id-1 div.sk-dashed-wrapped {border: 1px dashed gray;margin: 0 0.4em 0.5em 0.4em;box-sizing: border-box;padding-bottom: 0.4em;background-color: white;}#sk-container-id-1 div.sk-label label {font-family: monospace;font-weight: bold;display: inline-block;line-height: 1.2em;}#sk-container-id-1 div.sk-label-container {text-align: center;}#sk-container-id-1 div.sk-container {/* jupyter's `normalize.less` sets `[hidden] { display: none; }` but bootstrap.min.css set `[hidden] { display: none !important; }` so we also need the `!important` here to be able to override the default hidden behavior on the sphinx rendered scikit-learn.org. See: https://github.com/scikit-learn/scikit-learn/issues/21755 */display: inline-block !important;position: relative;}#sk-container-id-1 div.sk-text-repr-fallback {display: none;}</style><div id=\"sk-container-id-1\" class=\"sk-top-container\"><div class=\"sk-text-repr-fallback\"><pre>Pipeline(steps=[(&#x27;scaler&#x27;, MinMaxScaler()),\n",
              "                (&#x27;mlp&#x27;,\n",
              "                 MLPClassifier(activation=&#x27;logistic&#x27;, early_stopping=True,\n",
              "                               hidden_layer_sizes=(11, 32, 16, 4),\n",
              "                               learning_rate=&#x27;adaptive&#x27;,\n",
              "                               learning_rate_init=0.007, max_iter=100,\n",
              "                               verbose=True))])</pre><b>In a Jupyter environment, please rerun this cell to show the HTML representation or trust the notebook. <br />On GitHub, the HTML representation is unable to render, please try loading this page with nbviewer.org.</b></div><div class=\"sk-container\" hidden><div class=\"sk-item sk-dashed-wrapped\"><div class=\"sk-label-container\"><div class=\"sk-label sk-toggleable\"><input class=\"sk-toggleable__control sk-hidden--visually\" id=\"sk-estimator-id-1\" type=\"checkbox\" ><label for=\"sk-estimator-id-1\" class=\"sk-toggleable__label sk-toggleable__label-arrow\">Pipeline</label><div class=\"sk-toggleable__content\"><pre>Pipeline(steps=[(&#x27;scaler&#x27;, MinMaxScaler()),\n",
              "                (&#x27;mlp&#x27;,\n",
              "                 MLPClassifier(activation=&#x27;logistic&#x27;, early_stopping=True,\n",
              "                               hidden_layer_sizes=(11, 32, 16, 4),\n",
              "                               learning_rate=&#x27;adaptive&#x27;,\n",
              "                               learning_rate_init=0.007, max_iter=100,\n",
              "                               verbose=True))])</pre></div></div></div><div class=\"sk-serial\"><div class=\"sk-item\"><div class=\"sk-estimator sk-toggleable\"><input class=\"sk-toggleable__control sk-hidden--visually\" id=\"sk-estimator-id-2\" type=\"checkbox\" ><label for=\"sk-estimator-id-2\" class=\"sk-toggleable__label sk-toggleable__label-arrow\">MinMaxScaler</label><div class=\"sk-toggleable__content\"><pre>MinMaxScaler()</pre></div></div></div><div class=\"sk-item\"><div class=\"sk-estimator sk-toggleable\"><input class=\"sk-toggleable__control sk-hidden--visually\" id=\"sk-estimator-id-3\" type=\"checkbox\" ><label for=\"sk-estimator-id-3\" class=\"sk-toggleable__label sk-toggleable__label-arrow\">MLPClassifier</label><div class=\"sk-toggleable__content\"><pre>MLPClassifier(activation=&#x27;logistic&#x27;, early_stopping=True,\n",
              "              hidden_layer_sizes=(11, 32, 16, 4), learning_rate=&#x27;adaptive&#x27;,\n",
              "              learning_rate_init=0.007, max_iter=100, verbose=True)</pre></div></div></div></div></div></div></div>"
            ]
          },
          "metadata": {},
          "execution_count": 12
        }
      ],
      "source": [
        "# Realizando o treinamento\n",
        "full_pipe.fit(X_train,y_train)"
      ]
    },
    {
      "cell_type": "code",
      "execution_count": 13,
      "metadata": {
        "id": "BjVKwKfR00dW",
        "colab": {
          "base_uri": "https://localhost:8080/"
        },
        "outputId": "f407d1df-d847-4170-d57c-0202a3c889c3"
      },
      "outputs": [
        {
          "output_type": "stream",
          "name": "stdout",
          "text": [
            "[1 0 2 ... 3 2 2]\n"
          ]
        }
      ],
      "source": [
        "# Usando preditor para os dados de treino\n",
        "y_train_pred = full_pipe.predict(X_train)\n",
        "print(y_train_pred)"
      ]
    },
    {
      "cell_type": "code",
      "execution_count": 14,
      "metadata": {
        "id": "tvStbK4x3J2h",
        "colab": {
          "base_uri": "https://localhost:8080/"
        },
        "outputId": "016b5802-17b6-4008-ce6c-ed8068613308"
      },
      "outputs": [
        {
          "output_type": "stream",
          "name": "stdout",
          "text": [
            "0.9957781741421348\n"
          ]
        }
      ],
      "source": [
        "y_train_score = full_pipe.score(X_train, y_train)\n",
        "print(y_train_score)"
      ]
    },
    {
      "cell_type": "code",
      "execution_count": 15,
      "metadata": {
        "id": "xSWQqWDs3Pwi",
        "colab": {
          "base_uri": "https://localhost:8080/"
        },
        "outputId": "616c9a8f-c400-41f0-b357-29ccbe778183"
      },
      "outputs": [
        {
          "output_type": "stream",
          "name": "stdout",
          "text": [
            "[1 3 0 ... 2 0 1]\n"
          ]
        }
      ],
      "source": [
        "# Usando o preditor nos dados de teste\n",
        "y_test_pred = full_pipe.predict(X_test)\n",
        "print(y_test_pred)"
      ]
    },
    {
      "cell_type": "code",
      "execution_count": 16,
      "metadata": {
        "id": "QcM9xwAI3WT4",
        "colab": {
          "base_uri": "https://localhost:8080/"
        },
        "outputId": "77955178-804a-4cd5-9b86-b512adde2ca0"
      },
      "outputs": [
        {
          "output_type": "stream",
          "name": "stdout",
          "text": [
            "0.9955818246082551\n"
          ]
        }
      ],
      "source": [
        "# Observando a acurácia do modelo nos dados de teste\n",
        "y_test_score = full_pipe.score(X_test, y_test)\n",
        "print(y_test_score)"
      ]
    },
    {
      "cell_type": "code",
      "execution_count": 17,
      "metadata": {
        "id": "NLVN0de-3auR",
        "colab": {
          "base_uri": "https://localhost:8080/",
          "height": 473
        },
        "outputId": "3f74a124-bb1a-405f-f681-6895498b1fd1"
      },
      "outputs": [
        {
          "output_type": "display_data",
          "data": {
            "text/plain": [
              "<Figure size 640x480 with 1 Axes>"
            ],
            "image/png": "[encoded data removed]"
          },
          "metadata": {}
        }
      ],
      "source": [
        "# Curva de perdas do melhor modelo\n",
        "plt.plot(mlp_clf.loss_curve_)\n",
        "plt.title(\"Loss Curve\", fontsize=14)\n",
        "plt.xlabel('Iterations')\n",
        "plt.ylabel('Cost')\n",
        "plt.show()"
      ]
    },
    {
      "cell_type": "code",
      "execution_count": 18,
      "metadata": {
        "id": "UFloZ0Hw3eXQ",
        "colab": {
          "base_uri": "https://localhost:8080/"
        },
        "outputId": "4a97dd3f-45d0-4138-f401-9decd6362b31"
      },
      "outputs": [
        {
          "output_type": "stream",
          "name": "stdout",
          "text": [
            "Classification report for classifier MLPClassifier(activation='logistic', early_stopping=True,\n",
            "              hidden_layer_sizes=(11, 32, 16, 4), learning_rate='adaptive',\n",
            "              learning_rate_init=0.007, max_iter=100, verbose=True):\n",
            "              precision    recall  f1-score   support\n",
            "\n",
            "           0       1.00      0.99      1.00     25503\n",
            "           1       0.99      1.00      1.00     20364\n",
            "           2       1.00      0.99      0.99     27151\n",
            "           3       0.99      1.00      1.00     28834\n",
            "\n",
            "    accuracy                           1.00    101852\n",
            "   macro avg       1.00      1.00      1.00    101852\n",
            "weighted avg       1.00      1.00      1.00    101852\n",
            "\n",
            "\n"
          ]
        }
      ],
      "source": [
        "print(\n",
        "    f\"Classification report for classifier {mlp_clf}:\\n\"\n",
        "    f\"{metrics.classification_report(y_test, y_test_pred)}\\n\"\n",
        ")"
      ]
    },
    {
      "cell_type": "code",
      "execution_count": 19,
      "metadata": {
        "id": "lgQW9L3K3k75",
        "colab": {
          "base_uri": "https://localhost:8080/",
          "height": 584
        },
        "outputId": "a71f3c75-207c-4fa4-d2fb-84625b204b5a"
      },
      "outputs": [
        {
          "output_type": "stream",
          "name": "stdout",
          "text": [
            "Matriz de confusão:\n",
            "[[25301   128    74     0]\n",
            " [    2 20338     0    24]\n",
            " [    9     0 26930   212]\n",
            " [    0     1     0 28833]]\n"
          ]
        },
        {
          "output_type": "display_data",
          "data": {
            "text/plain": [
              "<Figure size 640x480 with 2 Axes>"
            ],
            "image/png": "[encoded data removed]"
          },
          "metadata": {}
        }
      ],
      "source": [
        "disp = metrics.ConfusionMatrixDisplay.from_predictions(y_test, y_test_pred)\n",
        "disp.figure_.suptitle(\"Matriz de confusão\")\n",
        "print(f\"Matriz de confusão:\\n{disp.confusion_matrix}\")\n",
        "\n",
        "plt.show()"
      ]
    },
    {
      "cell_type": "code",
      "execution_count": 20,
      "metadata": {
        "id": "eYN70s-D8uGQ",
        "colab": {
          "base_uri": "https://localhost:8080/"
        },
        "outputId": "6ef4b874-9b3e-49dc-c30a-40a985bfa1ae"
      },
      "outputs": [
        {
          "output_type": "execute_result",
          "data": {
            "text/plain": [
              "['/content/drive/MyDrive/Colab Notebooks/PROJETO FINAL - IOT/mlp_smart_enviroument.joblib']"
            ]
          },
          "metadata": {},
          "execution_count": 20
        }
      ],
      "source": [
        "import joblib\n",
        "\n",
        "joblib.dump(full_pipe,'/content/drive/MyDrive/Colab Notebooks/PROJETO FINAL - IOT/mlp_smart_enviroument.joblib')"
      ]
    },
    {
      "cell_type": "code",
      "execution_count": 21,
      "metadata": {
        "id": "7_aqIGraGqLg"
      },
      "outputs": [],
      "source": [
        "m = joblib.load('/content/drive/MyDrive/Colab Notebooks/PROJETO FINAL - IOT/mlp_smart_enviroument.joblib')"
      ]
    },
    {
      "cell_type": "code",
      "execution_count": 22,
      "metadata": {
        "id": "Ac6QqMD7GqLg",
        "colab": {
          "base_uri": "https://localhost:8080/"
        },
        "outputId": "b9bc1a8e-68c0-4ce5-e50a-ce0ae701aa1b"
      },
      "outputs": [
        {
          "output_type": "stream",
          "name": "stdout",
          "text": [
            "[3]\n"
          ]
        },
        {
          "output_type": "stream",
          "name": "stderr",
          "text": [
            "/usr/local/lib/python3.10/dist-packages/sklearn/base.py:439: UserWarning: X does not have valid feature names, but MinMaxScaler was fitted with feature names\n",
            "  warnings.warn(\n"
          ]
        }
      ],
      "source": [
        "# lux | humidity | temperature | ligthing_switch | climate_switch | door_actuator | lux_status | humidity_status\n",
        "# temperature_status | enviroument_temperature | enviroument_lux\n",
        "# testando dados\n",
        "features = [286, 50, 30, 1, 1, 1, 1, 1, 1, 25, 300]\n",
        "\n",
        "# convertendo para array\n",
        "features_array = np.array([features])\n",
        "\n",
        "# Prevendo a saída\n",
        "prediction = m.predict(features_array)\n",
        "\n",
        "# Mostrando o resultado\n",
        "print(prediction)\n"
      ]
    },
    {
      "cell_type": "code",
      "execution_count": 23,
      "metadata": {
        "id": "QjgsmhWsBBxZ",
        "colab": {
          "base_uri": "https://localhost:8080/"
        },
        "outputId": "bdfd306e-eed7-4c3e-a8a0-128e0ad640e9"
      },
      "outputs": [
        {
          "output_type": "stream",
          "name": "stdout",
          "text": [
            "NumPy version: 1.25.2\n",
            "scikit-learn version: 1.2.2\n",
            "joblib version: 1.4.2\n"
          ]
        }
      ],
      "source": [
        "import numpy as np\n",
        "import sklearn\n",
        "import joblib\n",
        "\n",
        "print(\"NumPy version:\", np.__version__)\n",
        "print(\"scikit-learn version:\", sklearn.__version__)\n",
        "print(\"joblib version:\", joblib.__version__)\n"
      ]
    }
  ],
  "metadata": {
    "accelerator": "GPU",
    "colab": {
      "cell_execution_strategy": "setup",
      "gpuType": "T4",
      "provenance": []
    },
    "kernelspec": {
      "display_name": "Python 3",
      "name": "python3"
    },
    "language_info": {
      "codemirror_mode": {
        "name": "ipython",
        "version": 3
      },
      "file_extension": ".py",
      "mimetype": "text/x-python",
      "name": "python",
      "nbconvert_exporter": "python",
      "pygments_lexer": "ipython3",
      "version": "3.11.5"
    }
  },
  "nbformat": 4,
  "nbformat_minor": 0
}