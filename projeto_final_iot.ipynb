{
 "cells": [
  {
   "cell_type": "code",
   "execution_count": 1,
   "metadata": {
    "colab": {
     "base_uri": "https://localhost:8080/"
    },
    "id": "OD3c2CmZxrqD",
    "outputId": "d9ff7d09-544e-4130-f247-32e67862c3ef"
   },
   "outputs": [],
   "source": [
    "# importando bibliotecas\n",
    "import pandas as pd\n",
    "import pandas as pd\n",
    "from sklearn.model_selection import train_test_split\n",
    "#usada para o pré-processamento de daddos, minmax e standard para dimensionar e padronizar e o onehot para codificar variáveis em formato numérico\n",
    "from sklearn.preprocessing import MinMaxScaler\n",
    "from sklearn.pipeline import Pipeline\n",
    "#classificador redes neurais com MLP\n",
    "from sklearn.neural_network import MLPClassifier\n",
    "from sklearn.impute import SimpleImputer\n",
    "import matplotlib.pyplot as plt\n",
    "from sklearn.metrics import accuracy_score, confusion_matrix, precision_score, recall_score, ConfusionMatrixDisplay, f1_score\n",
    "from sklearn import metrics\n",
    "import numpy as np"
   ]
  },
  {
   "cell_type": "code",
   "execution_count": 2,
   "metadata": {
    "id": "LWM99rr0ycZk"
   },
   "outputs": [],
   "source": [
    "dt = pd.read_csv('/home/geraldo/Documentos/python_projects/iot-ia/sensor_data.csv', low_memory=False)"
   ]
  },
  {
   "cell_type": "code",
   "execution_count": 3,
   "metadata": {
    "colab": {
     "base_uri": "https://localhost:8080/",
     "height": 226
    },
    "id": "d9BXeoD2zBMa",
    "outputId": "50682214-3286-45a9-c50e-1962ce25da7d"
   },
   "outputs": [
    {
     "data": {
      "text/html": [
       "<div>\n",
       "<style scoped>\n",
       "    .dataframe tbody tr th:only-of-type {\n",
       "        vertical-align: middle;\n",
       "    }\n",
       "\n",
       "    .dataframe tbody tr th {\n",
       "        vertical-align: top;\n",
       "    }\n",
       "\n",
       "    .dataframe thead th {\n",
       "        text-align: right;\n",
       "    }\n",
       "</style>\n",
       "<table border=\"1\" class=\"dataframe\">\n",
       "  <thead>\n",
       "    <tr style=\"text-align: right;\">\n",
       "      <th></th>\n",
       "      <th>lux</th>\n",
       "      <th>humidity</th>\n",
       "      <th>temperature</th>\n",
       "      <th>lighting_switch</th>\n",
       "      <th>climate_switch</th>\n",
       "      <th>door_actuator</th>\n",
       "      <th>lux_status</th>\n",
       "      <th>humidity_status</th>\n",
       "      <th>temperature_status</th>\n",
       "      <th>environment_temperature</th>\n",
       "      <th>environment_lux</th>\n",
       "      <th>label</th>\n",
       "    </tr>\n",
       "  </thead>\n",
       "  <tbody>\n",
       "    <tr>\n",
       "      <th>0</th>\n",
       "      <td>159.024210</td>\n",
       "      <td>75.145465</td>\n",
       "      <td>0.000000</td>\n",
       "      <td>1</td>\n",
       "      <td>0</td>\n",
       "      <td>0</td>\n",
       "      <td>1</td>\n",
       "      <td>0</td>\n",
       "      <td>1</td>\n",
       "      <td>16</td>\n",
       "      <td>450</td>\n",
       "      <td>2</td>\n",
       "    </tr>\n",
       "    <tr>\n",
       "      <th>1</th>\n",
       "      <td>155.119111</td>\n",
       "      <td>20.952129</td>\n",
       "      <td>0.000000</td>\n",
       "      <td>1</td>\n",
       "      <td>0</td>\n",
       "      <td>0</td>\n",
       "      <td>1</td>\n",
       "      <td>1</td>\n",
       "      <td>1</td>\n",
       "      <td>30</td>\n",
       "      <td>450</td>\n",
       "      <td>2</td>\n",
       "    </tr>\n",
       "    <tr>\n",
       "      <th>2</th>\n",
       "      <td>0.000000</td>\n",
       "      <td>12.465061</td>\n",
       "      <td>0.000000</td>\n",
       "      <td>0</td>\n",
       "      <td>1</td>\n",
       "      <td>0</td>\n",
       "      <td>0</td>\n",
       "      <td>1</td>\n",
       "      <td>1</td>\n",
       "      <td>20</td>\n",
       "      <td>350</td>\n",
       "      <td>0</td>\n",
       "    </tr>\n",
       "    <tr>\n",
       "      <th>3</th>\n",
       "      <td>152.576238</td>\n",
       "      <td>7.613451</td>\n",
       "      <td>54.403436</td>\n",
       "      <td>1</td>\n",
       "      <td>0</td>\n",
       "      <td>1</td>\n",
       "      <td>1</td>\n",
       "      <td>0</td>\n",
       "      <td>1</td>\n",
       "      <td>28</td>\n",
       "      <td>450</td>\n",
       "      <td>2</td>\n",
       "    </tr>\n",
       "    <tr>\n",
       "      <th>4</th>\n",
       "      <td>47.662035</td>\n",
       "      <td>75.543981</td>\n",
       "      <td>0.000000</td>\n",
       "      <td>1</td>\n",
       "      <td>1</td>\n",
       "      <td>0</td>\n",
       "      <td>1</td>\n",
       "      <td>0</td>\n",
       "      <td>1</td>\n",
       "      <td>29</td>\n",
       "      <td>350</td>\n",
       "      <td>2</td>\n",
       "    </tr>\n",
       "  </tbody>\n",
       "</table>\n",
       "</div>"
      ],
      "text/plain": [
       "          lux   humidity  temperature  lighting_switch  climate_switch  \\\n",
       "0  159.024210  75.145465     0.000000                1               0   \n",
       "1  155.119111  20.952129     0.000000                1               0   \n",
       "2    0.000000  12.465061     0.000000                0               1   \n",
       "3  152.576238   7.613451    54.403436                1               0   \n",
       "4   47.662035  75.543981     0.000000                1               1   \n",
       "\n",
       "   door_actuator  lux_status  humidity_status  temperature_status  \\\n",
       "0              0           1                0                   1   \n",
       "1              0           1                1                   1   \n",
       "2              0           0                1                   1   \n",
       "3              1           1                0                   1   \n",
       "4              0           1                0                   1   \n",
       "\n",
       "   environment_temperature  environment_lux  label  \n",
       "0                       16              450      2  \n",
       "1                       30              450      2  \n",
       "2                       20              350      0  \n",
       "3                       28              450      2  \n",
       "4                       29              350      2  "
      ]
     },
     "execution_count": 3,
     "metadata": {},
     "output_type": "execute_result"
    }
   ],
   "source": [
    "dt.head()"
   ]
  },
  {
   "cell_type": "code",
   "execution_count": 4,
   "metadata": {
    "colab": {
     "base_uri": "https://localhost:8080/"
    },
    "id": "luIrxUxLzECi",
    "outputId": "6736982c-af86-4d4a-fc74-75efb0309bff"
   },
   "outputs": [
    {
     "data": {
      "text/plain": [
       "label\n",
       "0    6700888\n",
       "2    2088118\n",
       "1     923608\n",
       "3     287386\n",
       "Name: count, dtype: int64"
      ]
     },
     "execution_count": 4,
     "metadata": {},
     "output_type": "execute_result"
    }
   ],
   "source": [
    "dt['label'].value_counts()"
   ]
  },
  {
   "cell_type": "code",
   "execution_count": 5,
   "metadata": {},
   "outputs": [],
   "source": [
    "normal = dt.loc[dt['label'] == 0]\n",
    "arcond = dt.loc[dt['label'] == 1]\n",
    "ilu = dt.loc[dt['label'] == 2]\n",
    "iluar = dt.loc[dt['label'] == 3]"
   ]
  },
  {
   "cell_type": "code",
   "execution_count": 6,
   "metadata": {},
   "outputs": [],
   "source": [
    "# Selecionando aleatoriamente aproximadamente 51000 amostras de cada classe para balancear os dados de treinamento\n",
    "\n",
    "X_train_ilu, X_tst_ilu, y_train_ilu, y_tst_ilu = train_test_split(ilu.drop(['label'],axis=1), ilu['label'], test_size=0.13, shuffle=True)\n",
    "X_train_arcond, X_tst_arcond, y_train_arcond, y_tst_arcond = train_test_split(arcond.drop(['label'],axis=1), arcond['label'], test_size=0.29, shuffle=True)\n",
    "X_train_normal, X_tst_normal, y_train_normal, y_tst_normal = train_test_split(normal.drop(['label'],axis=1), normal['label'], test_size=0.038, shuffle=True)"
   ]
  },
  {
   "cell_type": "code",
   "execution_count": 7,
   "metadata": {},
   "outputs": [
    {
     "data": {
      "text/plain": [
       "label\n",
       "3    287386\n",
       "2    271456\n",
       "1    267847\n",
       "0    254634\n",
       "Name: count, dtype: int64"
      ]
     },
     "execution_count": 7,
     "metadata": {},
     "output_type": "execute_result"
    }
   ],
   "source": [
    "# Transformando array em series pandas novamente\n",
    "normal_pd_X = pd.DataFrame(X_tst_normal)\n",
    "normal_pd_y = pd.DataFrame(y_tst_normal)\n",
    "ilu_pd_X = pd.DataFrame(X_tst_ilu)\n",
    "ilu_pd_y = pd.DataFrame(y_tst_ilu)\n",
    "arcond_pd_X = pd.DataFrame(X_tst_arcond)\n",
    "arcond_pd_y = pd.DataFrame(y_tst_arcond)\n",
    "\n",
    "normal_pd_X['label'] = normal_pd_y\n",
    "ilu_pd_X['label'] = ilu_pd_y\n",
    "arcond_pd_X['label'] = arcond_pd_y\n",
    "\n",
    "# concatenando as amostras das 4 classes de saída\n",
    "data = pd.concat([iluar, normal_pd_X, ilu_pd_X, arcond_pd_X])\n",
    "data['label'].value_counts()"
   ]
  },
  {
   "cell_type": "code",
   "execution_count": 8,
   "metadata": {},
   "outputs": [],
   "source": [
    "data.to_csv('meu_arquivo.csv', index=False)"
   ]
  },
  {
   "cell_type": "code",
   "execution_count": 8,
   "metadata": {
    "colab": {
     "base_uri": "https://localhost:8080/"
    },
    "id": "kIvyfwP2xsg3",
    "outputId": "e08d0d20-302c-48ad-eee5-abe8852f7cd5"
   },
   "outputs": [
    {
     "name": "stdout",
     "output_type": "stream",
     "text": [
      "<class 'pandas.core.frame.DataFrame'>\n",
      "Index: 1082030 entries, 74 to 7993093\n",
      "Data columns (total 12 columns):\n",
      " #   Column                   Non-Null Count    Dtype  \n",
      "---  ------                   --------------    -----  \n",
      " 0   lux                      1082030 non-null  float64\n",
      " 1   humidity                 1082030 non-null  float64\n",
      " 2   temperature              1082030 non-null  float64\n",
      " 3   lighting_switch          1082030 non-null  int64  \n",
      " 4   climate_switch           1082030 non-null  int64  \n",
      " 5   door_actuator            1082030 non-null  int64  \n",
      " 6   lux_status               1082030 non-null  int64  \n",
      " 7   humidity_status          1082030 non-null  int64  \n",
      " 8   temperature_status       1082030 non-null  int64  \n",
      " 9   environment_temperature  1082030 non-null  int64  \n",
      " 10  environment_lux          1082030 non-null  int64  \n",
      " 11  label                    1082030 non-null  int64  \n",
      "dtypes: float64(3), int64(9)\n",
      "memory usage: 107.3 MB\n"
     ]
    }
   ],
   "source": [
    "data.info()"
   ]
  },
  {
   "cell_type": "code",
   "execution_count": 9,
   "metadata": {
    "colab": {
     "base_uri": "https://localhost:8080/"
    },
    "id": "JnAT6Myn1IAT",
    "outputId": "cff3a3a3-3b3d-47e9-f261-3b98aa2fd123"
   },
   "outputs": [
    {
     "name": "stdout",
     "output_type": "stream",
     "text": [
      "11\n"
     ]
    }
   ],
   "source": [
    "# Número de features\n",
    "inputs = len(data.columns)-1\n",
    "print(inputs)"
   ]
  },
  {
   "cell_type": "code",
   "execution_count": 10,
   "metadata": {
    "id": "xKRyS9aIzI3b"
   },
   "outputs": [],
   "source": [
    "# Modelo de MLP para classificação criado\n",
    "mlp_clf = MLPClassifier(hidden_layer_sizes=(inputs,32,16,4),\n",
    "                        max_iter = 100,activation = 'logistic',\n",
    "                        solver = 'adam',learning_rate = 'adaptive',\n",
    "                        learning_rate_init = 0.007, early_stopping = True,\n",
    "                        verbose=True)"
   ]
  },
  {
   "cell_type": "code",
   "execution_count": 11,
   "metadata": {
    "id": "6qvWMMpK0Qg0"
   },
   "outputs": [],
   "source": [
    "# Dividindo os dados em treino e teste\n",
    "X_train, X_test, y_train, y_test = train_test_split(data.drop(['label'],axis=1), data['label'], test_size=0.1, shuffle=True)"
   ]
  },
  {
   "cell_type": "code",
   "execution_count": 12,
   "metadata": {
    "id": "y9PSunI10iVb"
   },
   "outputs": [],
   "source": [
    "full_pipe = Pipeline(steps=[\n",
    "#     ('imputer', SimpleImputer(strategy='median')),\n",
    "    ('scaler', MinMaxScaler()),\n",
    "    ('mlp', mlp_clf)\n",
    "])"
   ]
  },
  {
   "cell_type": "code",
   "execution_count": 13,
   "metadata": {
    "colab": {
     "base_uri": "https://localhost:8080/",
     "height": 304
    },
    "id": "xYGXVv9p0uSv",
    "outputId": "284ae33c-7c7b-4da1-81ed-1d90aba784c7"
   },
   "outputs": [
    {
     "name": "stdout",
     "output_type": "stream",
     "text": [
      "Iteration 1, loss = 0.46435541\n",
      "Validation score: 0.773030\n",
      "Iteration 2, loss = 0.38552231\n",
      "Validation score: 0.776871\n",
      "Iteration 3, loss = 0.13958550\n",
      "Validation score: 0.986794\n",
      "Iteration 4, loss = 0.06604654\n",
      "Validation score: 0.986620\n",
      "Iteration 5, loss = 0.06376621\n",
      "Validation score: 0.988170\n",
      "Iteration 6, loss = 0.06299616\n",
      "Validation score: 0.984474\n",
      "Iteration 7, loss = 0.06232462\n",
      "Validation score: 0.987903\n",
      "Iteration 8, loss = 0.06170119\n",
      "Validation score: 0.987400\n",
      "Iteration 9, loss = 0.04530414\n",
      "Validation score: 0.988951\n",
      "Iteration 10, loss = 0.03802923\n",
      "Validation score: 0.990522\n",
      "Iteration 11, loss = 0.03543409\n",
      "Validation score: 0.992288\n",
      "Iteration 12, loss = 0.03399351\n",
      "Validation score: 0.992873\n",
      "Iteration 13, loss = 0.03156146\n",
      "Validation score: 0.993716\n",
      "Iteration 14, loss = 0.03199039\n",
      "Validation score: 0.991641\n",
      "Iteration 15, loss = 0.02993072\n",
      "Validation score: 0.991795\n",
      "Iteration 16, loss = 0.02970628\n",
      "Validation score: 0.994896\n",
      "Iteration 17, loss = 0.02849889\n",
      "Validation score: 0.994907\n",
      "Iteration 18, loss = 0.02694673\n",
      "Validation score: 0.995235\n",
      "Iteration 19, loss = 0.02618386\n",
      "Validation score: 0.994280\n",
      "Iteration 20, loss = 0.02561355\n",
      "Validation score: 0.991292\n",
      "Iteration 21, loss = 0.02533283\n",
      "Validation score: 0.995009\n",
      "Iteration 22, loss = 0.02503551\n",
      "Validation score: 0.988160\n",
      "Iteration 23, loss = 0.02436166\n",
      "Validation score: 0.994712\n",
      "Iteration 24, loss = 0.02358884\n",
      "Validation score: 0.993972\n",
      "Iteration 25, loss = 0.02283499\n",
      "Validation score: 0.994732\n",
      "Iteration 26, loss = 0.02279457\n",
      "Validation score: 0.995626\n",
      "Iteration 27, loss = 0.02284460\n",
      "Validation score: 0.994660\n",
      "Iteration 28, loss = 0.02252655\n",
      "Validation score: 0.994250\n",
      "Iteration 29, loss = 0.02216105\n",
      "Validation score: 0.996314\n",
      "Iteration 30, loss = 0.02160587\n",
      "Validation score: 0.996180\n",
      "Iteration 31, loss = 0.02194215\n",
      "Validation score: 0.996283\n",
      "Iteration 32, loss = 0.02121768\n",
      "Validation score: 0.994208\n",
      "Iteration 33, loss = 0.02076175\n",
      "Validation score: 0.995492\n",
      "Iteration 34, loss = 0.02070262\n",
      "Validation score: 0.995903\n",
      "Iteration 35, loss = 0.02058456\n",
      "Validation score: 0.994434\n",
      "Iteration 36, loss = 0.02004372\n",
      "Validation score: 0.993305\n",
      "Iteration 37, loss = 0.02032364\n",
      "Validation score: 0.994691\n",
      "Iteration 38, loss = 0.01950218\n",
      "Validation score: 0.995092\n",
      "Iteration 39, loss = 0.01855662\n",
      "Validation score: 0.996149\n",
      "Iteration 40, loss = 0.01865018\n",
      "Validation score: 0.995205\n",
      "Validation score did not improve more than tol=0.000100 for 10 consecutive epochs. Stopping.\n"
     ]
    },
    {
     "data": {
      "text/html": [
       "<style>#sk-container-id-1 {color: black;}#sk-container-id-1 pre{padding: 0;}#sk-container-id-1 div.sk-toggleable {background-color: white;}#sk-container-id-1 label.sk-toggleable__label {cursor: pointer;display: block;width: 100%;margin-bottom: 0;padding: 0.3em;box-sizing: border-box;text-align: center;}#sk-container-id-1 label.sk-toggleable__label-arrow:before {content: \"▸\";float: left;margin-right: 0.25em;color: #696969;}#sk-container-id-1 label.sk-toggleable__label-arrow:hover:before {color: black;}#sk-container-id-1 div.sk-estimator:hover label.sk-toggleable__label-arrow:before {color: black;}#sk-container-id-1 div.sk-toggleable__content {max-height: 0;max-width: 0;overflow: hidden;text-align: left;background-color: #f0f8ff;}#sk-container-id-1 div.sk-toggleable__content pre {margin: 0.2em;color: black;border-radius: 0.25em;background-color: #f0f8ff;}#sk-container-id-1 input.sk-toggleable__control:checked~div.sk-toggleable__content {max-height: 200px;max-width: 100%;overflow: auto;}#sk-container-id-1 input.sk-toggleable__control:checked~label.sk-toggleable__label-arrow:before {content: \"▾\";}#sk-container-id-1 div.sk-estimator input.sk-toggleable__control:checked~label.sk-toggleable__label {background-color: #d4ebff;}#sk-container-id-1 div.sk-label input.sk-toggleable__control:checked~label.sk-toggleable__label {background-color: #d4ebff;}#sk-container-id-1 input.sk-hidden--visually {border: 0;clip: rect(1px 1px 1px 1px);clip: rect(1px, 1px, 1px, 1px);height: 1px;margin: -1px;overflow: hidden;padding: 0;position: absolute;width: 1px;}#sk-container-id-1 div.sk-estimator {font-family: monospace;background-color: #f0f8ff;border: 1px dotted black;border-radius: 0.25em;box-sizing: border-box;margin-bottom: 0.5em;}#sk-container-id-1 div.sk-estimator:hover {background-color: #d4ebff;}#sk-container-id-1 div.sk-parallel-item::after {content: \"\";width: 100%;border-bottom: 1px solid gray;flex-grow: 1;}#sk-container-id-1 div.sk-label:hover label.sk-toggleable__label {background-color: #d4ebff;}#sk-container-id-1 div.sk-serial::before {content: \"\";position: absolute;border-left: 1px solid gray;box-sizing: border-box;top: 0;bottom: 0;left: 50%;z-index: 0;}#sk-container-id-1 div.sk-serial {display: flex;flex-direction: column;align-items: center;background-color: white;padding-right: 0.2em;padding-left: 0.2em;position: relative;}#sk-container-id-1 div.sk-item {position: relative;z-index: 1;}#sk-container-id-1 div.sk-parallel {display: flex;align-items: stretch;justify-content: center;background-color: white;position: relative;}#sk-container-id-1 div.sk-item::before, #sk-container-id-1 div.sk-parallel-item::before {content: \"\";position: absolute;border-left: 1px solid gray;box-sizing: border-box;top: 0;bottom: 0;left: 50%;z-index: -1;}#sk-container-id-1 div.sk-parallel-item {display: flex;flex-direction: column;z-index: 1;position: relative;background-color: white;}#sk-container-id-1 div.sk-parallel-item:first-child::after {align-self: flex-end;width: 50%;}#sk-container-id-1 div.sk-parallel-item:last-child::after {align-self: flex-start;width: 50%;}#sk-container-id-1 div.sk-parallel-item:only-child::after {width: 0;}#sk-container-id-1 div.sk-dashed-wrapped {border: 1px dashed gray;margin: 0 0.4em 0.5em 0.4em;box-sizing: border-box;padding-bottom: 0.4em;background-color: white;}#sk-container-id-1 div.sk-label label {font-family: monospace;font-weight: bold;display: inline-block;line-height: 1.2em;}#sk-container-id-1 div.sk-label-container {text-align: center;}#sk-container-id-1 div.sk-container {/* jupyter's `normalize.less` sets `[hidden] { display: none; }` but bootstrap.min.css set `[hidden] { display: none !important; }` so we also need the `!important` here to be able to override the default hidden behavior on the sphinx rendered scikit-learn.org. See: https://github.com/scikit-learn/scikit-learn/issues/21755 */display: inline-block !important;position: relative;}#sk-container-id-1 div.sk-text-repr-fallback {display: none;}</style><div id=\"sk-container-id-1\" class=\"sk-top-container\"><div class=\"sk-text-repr-fallback\"><pre>Pipeline(steps=[(&#x27;scaler&#x27;, MinMaxScaler()),\n",
       "                (&#x27;mlp&#x27;,\n",
       "                 MLPClassifier(activation=&#x27;logistic&#x27;, early_stopping=True,\n",
       "                               hidden_layer_sizes=(11, 32, 16, 4),\n",
       "                               learning_rate=&#x27;adaptive&#x27;,\n",
       "                               learning_rate_init=0.007, max_iter=100,\n",
       "                               verbose=True))])</pre><b>In a Jupyter environment, please rerun this cell to show the HTML representation or trust the notebook. <br />On GitHub, the HTML representation is unable to render, please try loading this page with nbviewer.org.</b></div><div class=\"sk-container\" hidden><div class=\"sk-item sk-dashed-wrapped\"><div class=\"sk-label-container\"><div class=\"sk-label sk-toggleable\"><input class=\"sk-toggleable__control sk-hidden--visually\" id=\"sk-estimator-id-1\" type=\"checkbox\" ><label for=\"sk-estimator-id-1\" class=\"sk-toggleable__label sk-toggleable__label-arrow\">Pipeline</label><div class=\"sk-toggleable__content\"><pre>Pipeline(steps=[(&#x27;scaler&#x27;, MinMaxScaler()),\n",
       "                (&#x27;mlp&#x27;,\n",
       "                 MLPClassifier(activation=&#x27;logistic&#x27;, early_stopping=True,\n",
       "                               hidden_layer_sizes=(11, 32, 16, 4),\n",
       "                               learning_rate=&#x27;adaptive&#x27;,\n",
       "                               learning_rate_init=0.007, max_iter=100,\n",
       "                               verbose=True))])</pre></div></div></div><div class=\"sk-serial\"><div class=\"sk-item\"><div class=\"sk-estimator sk-toggleable\"><input class=\"sk-toggleable__control sk-hidden--visually\" id=\"sk-estimator-id-2\" type=\"checkbox\" ><label for=\"sk-estimator-id-2\" class=\"sk-toggleable__label sk-toggleable__label-arrow\">MinMaxScaler</label><div class=\"sk-toggleable__content\"><pre>MinMaxScaler()</pre></div></div></div><div class=\"sk-item\"><div class=\"sk-estimator sk-toggleable\"><input class=\"sk-toggleable__control sk-hidden--visually\" id=\"sk-estimator-id-3\" type=\"checkbox\" ><label for=\"sk-estimator-id-3\" class=\"sk-toggleable__label sk-toggleable__label-arrow\">MLPClassifier</label><div class=\"sk-toggleable__content\"><pre>MLPClassifier(activation=&#x27;logistic&#x27;, early_stopping=True,\n",
       "              hidden_layer_sizes=(11, 32, 16, 4), learning_rate=&#x27;adaptive&#x27;,\n",
       "              learning_rate_init=0.007, max_iter=100, verbose=True)</pre></div></div></div></div></div></div></div>"
      ],
      "text/plain": [
       "Pipeline(steps=[('scaler', MinMaxScaler()),\n",
       "                ('mlp',\n",
       "                 MLPClassifier(activation='logistic', early_stopping=True,\n",
       "                               hidden_layer_sizes=(11, 32, 16, 4),\n",
       "                               learning_rate='adaptive',\n",
       "                               learning_rate_init=0.007, max_iter=100,\n",
       "                               verbose=True))])"
      ]
     },
     "execution_count": 13,
     "metadata": {},
     "output_type": "execute_result"
    }
   ],
   "source": [
    "# Realizando o treinamento\n",
    "full_pipe.fit(X_train,y_train)"
   ]
  },
  {
   "cell_type": "code",
   "execution_count": 14,
   "metadata": {
    "id": "BjVKwKfR00dW"
   },
   "outputs": [
    {
     "name": "stdout",
     "output_type": "stream",
     "text": [
      "[3 3 0 ... 2 1 3]\n"
     ]
    }
   ],
   "source": [
    "# Usando preditor para os dados de treino\n",
    "y_train_pred = full_pipe.predict(X_train)\n",
    "print(y_train_pred)"
   ]
  },
  {
   "cell_type": "code",
   "execution_count": 15,
   "metadata": {
    "id": "tvStbK4x3J2h"
   },
   "outputs": [
    {
     "name": "stdout",
     "output_type": "stream",
     "text": [
      "0.9962354709820122\n"
     ]
    }
   ],
   "source": [
    "y_train_score = full_pipe.score(X_train, y_train)\n",
    "print(y_train_score)"
   ]
  },
  {
   "cell_type": "code",
   "execution_count": 16,
   "metadata": {
    "id": "xSWQqWDs3Pwi"
   },
   "outputs": [
    {
     "name": "stdout",
     "output_type": "stream",
     "text": [
      "[3 0 2 ... 1 1 3]\n"
     ]
    }
   ],
   "source": [
    "# Usando o preditor nos dados de teste\n",
    "y_test_pred = full_pipe.predict(X_test)\n",
    "print(y_test_pred)"
   ]
  },
  {
   "cell_type": "code",
   "execution_count": 17,
   "metadata": {
    "id": "QcM9xwAI3WT4"
   },
   "outputs": [
    {
     "name": "stdout",
     "output_type": "stream",
     "text": [
      "0.9961738583957931\n"
     ]
    }
   ],
   "source": [
    "# Observando a acurácia do modelo nos dados de teste\n",
    "y_test_score = full_pipe.score(X_test, y_test)\n",
    "print(y_test_score)"
   ]
  },
  {
   "cell_type": "code",
   "execution_count": 18,
   "metadata": {
    "id": "NLVN0de-3auR"
   },
   "outputs": [
    {
     "data": {
      "image/png": "[encoded data removed]",
      "text/plain": [
       "<Figure size 640x480 with 1 Axes>"
      ]
     },
     "metadata": {},
     "output_type": "display_data"
    }
   ],
   "source": [
    "# Curva de perdas do melhor modelo\n",
    "plt.plot(mlp_clf.loss_curve_)\n",
    "plt.title(\"Loss Curve\", fontsize=14)\n",
    "plt.xlabel('Iterations')\n",
    "plt.ylabel('Cost')\n",
    "plt.show()"
   ]
  },
  {
   "cell_type": "code",
   "execution_count": 19,
   "metadata": {
    "id": "UFloZ0Hw3eXQ"
   },
   "outputs": [
    {
     "name": "stdout",
     "output_type": "stream",
     "text": [
      "Classification report for classifier MLPClassifier(activation='logistic', early_stopping=True,\n",
      "              hidden_layer_sizes=(11, 32, 16, 4), learning_rate='adaptive',\n",
      "              learning_rate_init=0.007, max_iter=100, verbose=True):\n",
      "              precision    recall  f1-score   support\n",
      "\n",
      "           0       1.00      0.99      1.00     25485\n",
      "           1       0.99      1.00      1.00     27002\n",
      "           2       1.00      0.99      1.00     26923\n",
      "           3       0.99      1.00      1.00     28793\n",
      "\n",
      "    accuracy                           1.00    108203\n",
      "   macro avg       1.00      1.00      1.00    108203\n",
      "weighted avg       1.00      1.00      1.00    108203\n",
      "\n",
      "\n"
     ]
    }
   ],
   "source": [
    "print(\n",
    "    f\"Classification report for classifier {mlp_clf}:\\n\"\n",
    "    f\"{metrics.classification_report(y_test, y_test_pred)}\\n\"\n",
    ")"
   ]
  },
  {
   "cell_type": "code",
   "execution_count": 20,
   "metadata": {
    "id": "lgQW9L3K3k75"
   },
   "outputs": [
    {
     "name": "stdout",
     "output_type": "stream",
     "text": [
      "Matriz de confusão:\n",
      "[[25319   141    25     0]\n",
      " [    4 26988     0    10]\n",
      " [   14     0 26714   195]\n",
      " [    0    25     0 28768]]\n"
     ]
    },
    {
     "data": {
      "image/png": "[encoded data removed]",
      "text/plain": [
       "<Figure size 640x480 with 2 Axes>"
      ]
     },
     "metadata": {},
     "output_type": "display_data"
    }
   ],
   "source": [
    "disp = metrics.ConfusionMatrixDisplay.from_predictions(y_test, y_test_pred)\n",
    "disp.figure_.suptitle(\"Matriz de confusão\")\n",
    "print(f\"Matriz de confusão:\\n{disp.confusion_matrix}\")\n",
    "\n",
    "plt.show()"
   ]
  },
  {
   "cell_type": "code",
   "execution_count": 51,
   "metadata": {
    "id": "eYN70s-D8uGQ"
   },
   "outputs": [
    {
     "data": {
      "text/plain": [
       "['/home/geraldo/Documentos/python_projects/iot-ia/mlp_smart_enviroument.joblib']"
      ]
     },
     "execution_count": 51,
     "metadata": {},
     "output_type": "execute_result"
    }
   ],
   "source": [
    "import joblib\n",
    "\n",
    "joblib.dump(full_pipe, '/home/geraldo/Documentos/python_projects/iot-ia/mlp_smart_enviroument.joblib')"
   ]
  },
  {
   "cell_type": "code",
   "execution_count": 52,
   "metadata": {},
   "outputs": [],
   "source": [
    "m = joblib.load('/home/geraldo/Documentos/python_projects/iot-ia/mlp_smart_enviroument.joblib')"
   ]
  },
  {
   "cell_type": "code",
   "execution_count": 50,
   "metadata": {},
   "outputs": [
    {
     "name": "stdout",
     "output_type": "stream",
     "text": [
      "[1]\n"
     ]
    },
    {
     "name": "stderr",
     "output_type": "stream",
     "text": [
      "/home/geraldo/anaconda3/lib/python3.11/site-packages/sklearn/base.py:464: UserWarning: X does not have valid feature names, but MinMaxScaler was fitted with feature names\n",
      "  warnings.warn(\n"
     ]
    }
   ],
   "source": [
    "# lux | humidity | temperature | ligthing_switch | climate_switch | door_actuator | lux_status | humidity_status\n",
    "# temperature_status | enviroument_temperature | enviroument_lux\n",
    "# testando dados\n",
    "features = [286, 50, 30, 1, 1, 1, 1, 1, 1, 25, 300]\n",
    "\n",
    "# convertendo para array\n",
    "features_array = np.array([features])\n",
    "\n",
    "# Prevendo a saída\n",
    "prediction = m.predict(features_array)\n",
    "\n",
    "# Mostrando o resultado\n",
    "print(prediction)\n"
   ]
  },
  {
   "cell_type": "code",
   "execution_count": 24,
   "metadata": {},
   "outputs": [
    {
     "data": {
      "text/plain": [
       "label\n",
       "3    288106\n",
       "2    271391\n",
       "1    267916\n",
       "0    254617\n",
       "Name: count, dtype: int64"
      ]
     },
     "execution_count": 24,
     "metadata": {},
     "output_type": "execute_result"
    }
   ],
   "source": [
    "data['label'].value_counts()"
   ]
  },
  {
   "cell_type": "code",
   "execution_count": 25,
   "metadata": {},
   "outputs": [
    {
     "data": {
      "text/plain": [
       "(1082030, 12)"
      ]
     },
     "execution_count": 25,
     "metadata": {},
     "output_type": "execute_result"
    }
   ],
   "source": [
    "data.shape"
   ]
  },
  {
   "cell_type": "code",
   "execution_count": 26,
   "metadata": {},
   "outputs": [
    {
     "data": {
      "text/plain": [
       "(10000000, 12)"
      ]
     },
     "execution_count": 26,
     "metadata": {},
     "output_type": "execute_result"
    }
   ],
   "source": [
    "dt.shape"
   ]
  },
  {
   "cell_type": "code",
   "execution_count": null,
   "metadata": {},
   "outputs": [],
   "source": []
  }
 ],
 "metadata": {
  "colab": {
   "provenance": []
  },
  "kernelspec": {
   "display_name": "Python 3 (ipykernel)",
   "language": "python",
   "name": "python3"
  },
  "language_info": {
   "codemirror_mode": {
    "name": "ipython",
    "version": 3
   },
   "file_extension": ".py",
   "mimetype": "text/x-python",
   "name": "python",
   "nbconvert_exporter": "python",
   "pygments_lexer": "ipython3",
   "version": "3.11.5"
  }
 },
 "nbformat": 4,
 "nbformat_minor": 1
}
